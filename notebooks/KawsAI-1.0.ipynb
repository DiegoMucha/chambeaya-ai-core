{
  "cells": [
    {
      "cell_type": "markdown",
      "metadata": {
        "id": "e1gHbGuAYtJN"
      },
      "source": [
        "# **KawsAI - Un Modelo de IA para Matching de ChambeaYa**\n",
        "\n",
        "En este notebook se guarda el proceso que se hizo para crear el modelo de IA KawsAI. El objetivo de KawsAI, es hacer el matching con la mejor mype a cada estudiante. Así, el estudiante y la mype pueden conectar para poder trabajar juntos.\n",
        "\n",
        "### **I. Versión:**\n",
        "1.1\n",
        "\n",
        "### **II. Objetivo:**\n",
        "El objetivo de KawsAI es lograr hacer el mejor match entre estudiantes y un puesto ofrecido por una mype. Este match se va a basar en datos que ChambeaYa va a recopilar de ambos lados a traves de su página web. El objetivo principal es lograr indicar a un estudiante cual es el puesto que ofrece una mype que mas coincide con sus conocimientos, y así aumentar mucho las probabilidades de conexión.\n",
        "\n",
        "### **III. Descripción de los Datasets**\n",
        "Para la versión 1.0 vamos a usar datasets simulados con la ayuda de la IA de ChatGPT. Se le pidió a ChatGPT simular 2 datasets en forma de tablas y en formato .csv, que son estudiantes_test.csv y mypes_test.csv. Cada una de las columnas de estos datasets contiene información que se va a solicitar a los usuarios ingresar en nuestra plataforma.\n",
        "\n",
        "##### IIIa. Descripción de columnas de estudiantes:\n",
        "- **id:** ID único del estudiante (int)\n",
        "- **areas_interes:** Áreas profesionales de interés del estudiante (string)\n",
        "- **habilidades_destacadas:** Habilidades más desarrolladas del estudiante (string)\n",
        "- **main_motivation** Motivación principal del estudiante (string)\n",
        "- **description:** Descripción libre sobre personalidad y hobbies (string)\n",
        "- **weekly_availability:** Horas disponibles por semana para trabajar (int)\n",
        "- **preferred_modality:** Modalidad preferida de trabajo (Presencial:1, Híbrido:2, Remoto:3) (int)\n",
        "- **experience_description:** Experiencia previa relevante (string)\n",
        "\n",
        "##### IIIb. Descripción de columnas de puestos de mypes:\n",
        "- **id:** ID único del puesto ofrecido (string)  \n",
        "- **title** Título del puesto ofrecido (string)  \n",
        "- **description:** Descripción detallada del puesto (string)  \n",
        "- **area_del_puesto:** Área o departamento del puesto (string)  \n",
        "- **requisitos:** Los requisitos necesarios para el puesto (string)\n",
        "- **modality:** Modalidad del trabajo (Presencial:1, Híbrido:2, Remoto:3) (int)  \n",
        "- **required_hours:** Horas semanales requeridas (int)  \n",
        "\n",
        "### **IV. Índice**\n",
        "1. Carga de Librerias"
      ]
    },
    {
      "cell_type": "markdown",
      "metadata": {},
      "source": [
        "## 1. Carga de Librerias\n",
        "\n",
        "Importamos las librerias mas importantes para nuestro modelo de IA"
      ]
    },
    {
      "cell_type": "code",
      "execution_count": 1,
      "metadata": {
        "id": "TcKFP7wtOn7-"
      },
      "outputs": [],
      "source": [
        "# Todas las librerias que se deben importar\n",
        "import re\n",
        "import pandas as pd\n",
        "import numpy as np\n",
        "import spacy\n",
        "from spacy.lang.es.stop_words import STOP_WORDS as spacy_stopwords\n",
        "from sklearn.feature_extraction.text import TfidfVectorizer\n",
        "from scipy.sparse import hstack\n",
        "from sklearn.neighbors import NearestNeighbors"
      ]
    },
    {
      "cell_type": "code",
      "execution_count": 2,
      "metadata": {},
      "outputs": [
        {
          "name": "stdout",
          "output_type": "stream",
          "text": [
            "Collecting es-core-news-sm==3.8.0\n",
            "  Downloading https://github.com/explosion/spacy-models/releases/download/es_core_news_sm-3.8.0/es_core_news_sm-3.8.0-py3-none-any.whl (12.9 MB)\n",
            "     ---------------------------------------- 0.0/12.9 MB ? eta -:--:--\n",
            "     --------------------------------------- 0.0/12.9 MB 330.3 kB/s eta 0:00:39\n",
            "     --------------------------------------- 0.1/12.9 MB 656.4 kB/s eta 0:00:20\n",
            "     - -------------------------------------- 0.6/12.9 MB 5.0 MB/s eta 0:00:03\n",
            "     ---- ----------------------------------- 1.5/12.9 MB 8.8 MB/s eta 0:00:02\n",
            "     -------- ------------------------------- 2.7/12.9 MB 12.2 MB/s eta 0:00:01\n",
            "     ------------ --------------------------- 3.9/12.9 MB 14.8 MB/s eta 0:00:01\n",
            "     ---------------- ----------------------- 5.3/12.9 MB 17.0 MB/s eta 0:00:01\n",
            "     -------------------- ------------------- 6.5/12.9 MB 18.2 MB/s eta 0:00:01\n",
            "     ------------------------ --------------- 7.9/12.9 MB 19.5 MB/s eta 0:00:01\n",
            "     ----------------------------- ---------- 9.4/12.9 MB 20.8 MB/s eta 0:00:01\n",
            "     -------------------------------- ------ 10.9/12.9 MB 27.3 MB/s eta 0:00:01\n",
            "     ------------------------------------ -- 12.2/12.9 MB 28.4 MB/s eta 0:00:01\n",
            "     ------------------------------------- - 12.5/12.9 MB 28.5 MB/s eta 0:00:01\n",
            "     ------------------------------------- - 12.5/12.9 MB 28.5 MB/s eta 0:00:01\n",
            "     --------------------------------------  12.9/12.9 MB 23.4 MB/s eta 0:00:01\n",
            "     --------------------------------------  12.9/12.9 MB 23.4 MB/s eta 0:00:01\n",
            "     --------------------------------------  12.9/12.9 MB 23.4 MB/s eta 0:00:01\n",
            "     --------------------------------------  12.9/12.9 MB 23.4 MB/s eta 0:00:01\n",
            "     --------------------------------------  12.9/12.9 MB 23.4 MB/s eta 0:00:01\n",
            "     --------------------------------------  12.9/12.9 MB 23.4 MB/s eta 0:00:01\n",
            "     --------------------------------------  12.9/12.9 MB 23.4 MB/s eta 0:00:01\n",
            "     --------------------------------------  12.9/12.9 MB 23.4 MB/s eta 0:00:01\n",
            "     --------------------------------------- 12.9/12.9 MB 11.7 MB/s eta 0:00:00\n",
            "\u001b[38;5;2m✔ Download and installation successful\u001b[0m\n",
            "You can now load the package via spacy.load('es_core_news_sm')\n"
          ]
        },
        {
          "name": "stderr",
          "output_type": "stream",
          "text": [
            "\n",
            "[notice] A new release of pip is available: 23.2.1 -> 25.1.1\n",
            "[notice] To update, run: python.exe -m pip install --upgrade pip\n"
          ]
        }
      ],
      "source": [
        "!python -m spacy download es_core_news_sm"
      ]
    },
    {
      "cell_type": "markdown",
      "metadata": {},
      "source": [
        "## 2. Carga de datos en DataFrames"
      ]
    },
    {
      "cell_type": "code",
      "execution_count": 3,
      "metadata": {
        "id": "rofH0DQLO189"
      },
      "outputs": [],
      "source": [
        "# Ahora leemos los csv y los guardamos en dataframes de pandas2\n",
        "puestos = pd.read_csv(\"../datasets/puestos_test.csv\", index_col=False)"
      ]
    },
    {
      "cell_type": "markdown",
      "metadata": {},
      "source": [
        "## 3. Preprocesamiento de los datos\n",
        "\n",
        "### 3.1. Para los estudiantes:\n",
        "\n",
        "#### La función de preprocesamiento va a hacer diferentes pasos para diferentes columnas:\n",
        "\n",
        "**1)** Vamos a juntar todas las columnas textuales en una sola para el modelo y se le van a dar un peso a cada columna, luego se aplicará tf-idf a todas estas columnas:\n",
        "- career (peso de 1)\n",
        "- habilidades_destacadas (peso de 3)\n",
        "- areas_interes (peso de 3)\n",
        "- descripcion_personal (peso de 2)\n",
        "- experiencia_relevante (peso de 5)\n",
        "\n",
        "### 3.2.Para los puestos de trabajo:\n",
        "\n",
        "#### La clase de preprocesamiento va a tener diferentes preprocesamientos para cada columna\n",
        "\n",
        "**1)** Para las columnas textuales vamos a juntarlo todo como requerimiento_textual, cada columna textual tendrá un peso\n",
        "- title\n",
        "- description\n",
        "- area_del_puesto\n",
        "- requisitos"
      ]
    },
    {
      "cell_type": "code",
      "execution_count": null,
      "metadata": {},
      "outputs": [],
      "source": [
        "# Se crea una clase preprocesador general\n",
        "class Preprocesador:\n",
        "    # Primero al crear la clase, vamos a inciar el TF-IDF Vectorizer y el nlp que es el modelo para la lematización\n",
        "    def __init__(self):\n",
        "        self.vectorizador = TfidfVectorizer(max_features=500)\n",
        "        self.nlp = spacy.load(\"es_core_news_sm\")\n",
        "\n",
        "    # Con esta función recibimos un texto y lo devolvemos ya lematizado sin las stop_words\n",
        "    def crear_perfil_textual(self, text):\n",
        "        text = re.sub(r\"[^\\w\\s]\", \" \", text.lower())\n",
        "        text = re.sub(r\"\\s+\", \" \", text).strip()\n",
        "        doc = self.nlp(text)\n",
        "        tokens = []\n",
        "        for token in doc:\n",
        "            if token.is_stop or token.is_punct or token.like_num:\n",
        "                continue\n",
        "            else:\n",
        "                tokens.append(token.lemma_)\n",
        "        return \" \".join(tokens) # Se devuelve un string\n",
        "\n",
        "    # Función para crear el prefil textual de un estudiante (Pesos para cada tipo de carrera)\n",
        "    def crear_perfil_textual_estudiante(self, estudiante):\n",
        "        return self.crear_perfil_textual(\n",
        "            (\"carrera: \" + str(estudiante['career']) + \" \") * 1 +\n",
        "            (\"habilidades: \" + str(estudiante['habilidades_destacadas']) + \" \") * 3 +\n",
        "            (\"intereses: \" + str(estudiante['areas_interes']) + \" \") * 3 +\n",
        "            (\"descripcion: \" + str(estudiante['description']) + \" \") * 3 +\n",
        "            (\"experiencia: \" + str(estudiante['experience_id']) + \" \") * 5\n",
        "        )\n",
        "    \n",
        "    # Función para crear el prefil textual de un puesto (Pesos para cada tipo de puesto)\n",
        "    def crear_perfil_textual_puesto(self, puesto):\n",
        "        return self.crear_perfil_textual(\n",
        "            (\"puesto: \" + str(puesto['title']) + \" \") * 1 +\n",
        "            (\"descripcion: \" + str(puesto['description']) + \" \") * 2 +\n",
        "            (\"area: \" + str(puesto['area_id']) + \" \") * 1 +\n",
        "            (\"requisitos: \" + str(puesto['requisitos'])) * 5\n",
        "        )\n",
        "\n",
        "    # Función para realizar la vectorización TF-IDF de los puestos\n",
        "    def fit_transform(self, puestos):\n",
        "        # Hacemos una copia de los dataframes para no modificarlos directamente\n",
        "        puestos = puestos.copy()\n",
        "\n",
        "        # Creamos el perfil textual para los puestos\n",
        "        puestos['perfil_textual'] = puestos.apply(self.crear_perfil_textual_puesto, axis=1)\n",
        "\n",
        "        # Ahora vectorizamos este perfil textual con TF-IDF\n",
        "        corpus = puestos['perfil_textual']\n",
        "        tfidf_puestos = self.vectorizador.fit_transform(corpus)\n",
        "\n",
        "        # Se retorna la matriz vectorizada de los puestos\n",
        "        return tfidf_puestos\n",
        "    \n",
        "    # Funciń para realizar la vectorización TF-IDF de un estudiante\n",
        "    def transform_estudiante(self, estudiante):\n",
        "        estudiante = estudiante.copy()\n",
        "        text = self.crear_perfil_textual_estudiante(estudiante.iloc[0])\n",
        "        tfidf_estudiante = self.vectorizador.transform([text])\n",
        "\n",
        "        return tfidf_estudiante"
      ]
    },
    {
      "cell_type": "markdown",
      "metadata": {},
      "source": [
        "## 4. Función para realizar el primer filtrado de datos\n",
        "Para el primer filtrado, vamos a filtrar los puestos en base a la modalidad y las horas semanal. "
      ]
    },
    {
      "cell_type": "code",
      "execution_count": null,
      "metadata": {},
      "outputs": [],
      "source": [
        "def filtrado_por_modalidad_y_horas(X_puestos, puestos, estudiante):\n",
        "    mod = estudiante['preferred_modality'].iloc[0]\n",
        "    hrs = estudiante['weekly_availability'].iloc[0]\n",
        "    mascara = (puestos['modality'] == mod) & (puestos['required_hours'] <= hrs)\n",
        "    print(mascara.value_counts())\n",
        "    print(X_puestos.shape[0])  # número de filas en la matriz\n",
        "    print(len(mascara))        # debería ser igual\n",
        "    return X_puestos[mascara.values], puestos[mascara.values]"
      ]
    },
    {
      "cell_type": "markdown",
      "metadata": {},
      "source": [
        "## 5. Creación y Entrenamiento del Modelo\n",
        "Nuestro modelo va a ser KNN para nuestro MVP, vamos a aplicar primero el entrenamiento del KNN con fit, y luego para cada estudiante solo vamos a usar kneighbors y nos devolvera los indices de los puestos ideales para el estudiante"
      ]
    },
    {
      "cell_type": "code",
      "execution_count": 5,
      "metadata": {},
      "outputs": [],
      "source": [
        "# Primero creamos la clase para nuestro modelo de IA\n",
        "class KawsAIModel:\n",
        "    # Se usa el modelo de knn y se inicializa con 2 principales parametros\n",
        "    # n_neighbors = El número de mejores match que se va a mostrar\n",
        "    # metric = El tio de métrica y comparación que se va a usar \n",
        "    def __init__(self):\n",
        "        self.knn = NearestNeighbors(n_neighbors=3, metric='euclidean')\n",
        "    # Para el entrenamiento se va a usar las matrices TF-IDF de los puestos como parametro y se usará el metodo fit\n",
        "    def train(self, X_puestos):\n",
        "        self.knn.fit(X_puestos)\n",
        "    # Función para obtener los mejores matches, se retornará los índices.\n",
        "    def get_positions(self, X_estudiante_nuevo):\n",
        "        distances, indexes = self.knn.kneighbors(X_estudiante_nuevo)\n",
        "        return indexes[0]"
      ]
    },
    {
      "cell_type": "markdown",
      "metadata": {},
      "source": [
        "## 6. Funcionamiento del Modelo\n",
        "Se hará una prueba del modelo para visualizar el funcionamiento "
      ]
    },
    {
      "cell_type": "code",
      "execution_count": null,
      "metadata": {},
      "outputs": [],
      "source": [
        "# Primero creamos la instancia de nuestro proprocesador y nuestro modelo de ia\n",
        "pre = Preprocesador()\n",
        "model = KawsAIModel()"
      ]
    },
    {
      "cell_type": "code",
      "execution_count": 105,
      "metadata": {},
      "outputs": [],
      "source": [
        "estudiante_nuevo = {\n",
        "    \"carrera\": \"Ingeniería Industrial\",\n",
        "    \"habilidades_destacadas\": \"Excel avanzado, análisis de procesos, liderazgo, trabajo en equipo, gestión de proyectos\",\n",
        "    \"areas_interes\": \"optimización de procesos, logística, mejora continua, calidad\",\n",
        "    \"descripcion_personal\": \"Soy un estudiante proactivo con interés en mejorar la eficiencia operativa de las empresas. Me gusta trabajar en equipo y resolver problemas complejos.\",\n",
        "    \"experiencia_relevante\": \"Asistente de producción en planta textil, prácticas preprofesionales en área de logística en empresa de alimentos\",\n",
        "    \"preferred_modality\": \"Presencial\",\n",
        "    \"weekly_availability\": 40\n",
        "}\n",
        "estudiante = pd.DataFrame([estudiante_nuevo])"
      ]
    },
    {
      "cell_type": "code",
      "execution_count": 64,
      "metadata": {},
      "outputs": [],
      "source": [
        "X_puestos = pre.fit_transform(puestos)"
      ]
    },
    {
      "cell_type": "code",
      "execution_count": 106,
      "metadata": {},
      "outputs": [],
      "source": [
        "X_estudiante_nuevo = pre.transform_estudiante(estudiante)"
      ]
    },
    {
      "cell_type": "code",
      "execution_count": 107,
      "metadata": {},
      "outputs": [
        {
          "name": "stdout",
          "output_type": "stream",
          "text": [
            "True     369\n",
            "False    311\n",
            "Name: count, dtype: int64\n",
            "680\n",
            "680\n"
          ]
        }
      ],
      "source": [
        "X_puestos_filtrados, puestos_filtrados = filtrado_por_modalidad_y_horas(X_puestos, puestos, estudiante)"
      ]
    },
    {
      "cell_type": "code",
      "execution_count": 108,
      "metadata": {},
      "outputs": [
        {
          "data": {
            "text/plain": [
              "(369, 500)"
            ]
          },
          "execution_count": 108,
          "metadata": {},
          "output_type": "execute_result"
        }
      ],
      "source": [
        "X_puestos_filtrados.shape"
      ]
    },
    {
      "cell_type": "code",
      "execution_count": 109,
      "metadata": {},
      "outputs": [],
      "source": [
        "model.train(X_puestos_filtrados)\n",
        "indices = model.get_positions(X_estudiante_nuevo)"
      ]
    },
    {
      "cell_type": "code",
      "execution_count": 110,
      "metadata": {},
      "outputs": [
        {
          "data": {
            "text/html": [
              "<div>\n",
              "<style scoped>\n",
              "    .dataframe tbody tr th:only-of-type {\n",
              "        vertical-align: middle;\n",
              "    }\n",
              "\n",
              "    .dataframe tbody tr th {\n",
              "        vertical-align: top;\n",
              "    }\n",
              "\n",
              "    .dataframe thead th {\n",
              "        text-align: right;\n",
              "    }\n",
              "</style>\n",
              "<table border=\"1\" class=\"dataframe\">\n",
              "  <thead>\n",
              "    <tr style=\"text-align: right;\">\n",
              "      <th></th>\n",
              "      <th>id_puesto</th>\n",
              "      <th>titulo_puesto</th>\n",
              "      <th>descripcion_puesto</th>\n",
              "      <th>area_del_puesto</th>\n",
              "      <th>modalidad_de_trabajo</th>\n",
              "      <th>ubicacion</th>\n",
              "      <th>horas_semanales</th>\n",
              "      <th>horario</th>\n",
              "      <th>idiomas_requeridos</th>\n",
              "      <th>requisitos</th>\n",
              "      <th>fecha_inicio</th>\n",
              "      <th>duracion_del_puesto</th>\n",
              "      <th>fecha_limite_postulacion</th>\n",
              "      <th>tipo_contrato</th>\n",
              "      <th>sueldo_aproximado</th>\n",
              "    </tr>\n",
              "  </thead>\n",
              "  <tbody>\n",
              "    <tr>\n",
              "      <th>417</th>\n",
              "      <td>PSTFAR008</td>\n",
              "      <td>Pasantía en industria cosmética</td>\n",
              "      <td>Colabora en evaluación de estabilidad, formula...</td>\n",
              "      <td>Farmacia y Bioquímica</td>\n",
              "      <td>Presencial</td>\n",
              "      <td>Lima</td>\n",
              "      <td>25</td>\n",
              "      <td>Fijo</td>\n",
              "      <td>Español</td>\n",
              "      <td>Conocimiento de emulsiones, cosmética básica, ...</td>\n",
              "      <td>2025-08-15</td>\n",
              "      <td>6.0</td>\n",
              "      <td>2025-08-08</td>\n",
              "      <td>Pasantía</td>\n",
              "      <td>1350.0</td>\n",
              "    </tr>\n",
              "    <tr>\n",
              "      <th>220</th>\n",
              "      <td>PSTIAL001</td>\n",
              "      <td>Asistente en Control de Calidad de Alimentos</td>\n",
              "      <td>Colabora en análisis físico-químicos, muestreo...</td>\n",
              "      <td>Ingeniería de Alimentos</td>\n",
              "      <td>Presencial</td>\n",
              "      <td>Lima</td>\n",
              "      <td>30</td>\n",
              "      <td>Fijo</td>\n",
              "      <td>Español</td>\n",
              "      <td>Buenas Prácticas de Manufactura (BPM); manejo ...</td>\n",
              "      <td>2025-08-01</td>\n",
              "      <td>6.0</td>\n",
              "      <td>2025-07-25</td>\n",
              "      <td>Pasantía</td>\n",
              "      <td>1450.0</td>\n",
              "    </tr>\n",
              "    <tr>\n",
              "      <th>123</th>\n",
              "      <td>PSTII014</td>\n",
              "      <td>Asistente de Producción Textil</td>\n",
              "      <td>Colabora en control de calidad en línea, segui...</td>\n",
              "      <td>Ingeniería Industrial</td>\n",
              "      <td>Presencial</td>\n",
              "      <td>Gamarra</td>\n",
              "      <td>30</td>\n",
              "      <td>Fijo</td>\n",
              "      <td>Español</td>\n",
              "      <td>Conocimiento básico de procesos textiles; Exce...</td>\n",
              "      <td>2025-08-12</td>\n",
              "      <td>6.0</td>\n",
              "      <td>2025-08-06</td>\n",
              "      <td>Pasantía</td>\n",
              "      <td>1350.0</td>\n",
              "    </tr>\n",
              "  </tbody>\n",
              "</table>\n",
              "</div>"
            ],
            "text/plain": [
              "     id_puesto                                 titulo_puesto  \\\n",
              "417  PSTFAR008               Pasantía en industria cosmética   \n",
              "220  PSTIAL001  Asistente en Control de Calidad de Alimentos   \n",
              "123   PSTII014                Asistente de Producción Textil   \n",
              "\n",
              "                                    descripcion_puesto  \\\n",
              "417  Colabora en evaluación de estabilidad, formula...   \n",
              "220  Colabora en análisis físico-químicos, muestreo...   \n",
              "123  Colabora en control de calidad en línea, segui...   \n",
              "\n",
              "             area_del_puesto modalidad_de_trabajo ubicacion  horas_semanales  \\\n",
              "417    Farmacia y Bioquímica           Presencial      Lima               25   \n",
              "220  Ingeniería de Alimentos           Presencial      Lima               30   \n",
              "123    Ingeniería Industrial           Presencial   Gamarra               30   \n",
              "\n",
              "    horario idiomas_requeridos  \\\n",
              "417    Fijo            Español   \n",
              "220    Fijo            Español   \n",
              "123    Fijo            Español   \n",
              "\n",
              "                                            requisitos fecha_inicio  \\\n",
              "417  Conocimiento de emulsiones, cosmética básica, ...   2025-08-15   \n",
              "220  Buenas Prácticas de Manufactura (BPM); manejo ...   2025-08-01   \n",
              "123  Conocimiento básico de procesos textiles; Exce...   2025-08-12   \n",
              "\n",
              "     duracion_del_puesto fecha_limite_postulacion tipo_contrato  \\\n",
              "417                  6.0               2025-08-08      Pasantía   \n",
              "220                  6.0               2025-07-25      Pasantía   \n",
              "123                  6.0               2025-08-06      Pasantía   \n",
              "\n",
              "     sueldo_aproximado  \n",
              "417             1350.0  \n",
              "220             1450.0  \n",
              "123             1350.0  "
            ]
          },
          "execution_count": 110,
          "metadata": {},
          "output_type": "execute_result"
        }
      ],
      "source": [
        "puestos_filtrados.iloc[indices]"
      ]
    },
    {
      "cell_type": "markdown",
      "metadata": {
        "id": "4Pykjrx-joWZ"
      },
      "source": []
    }
  ],
  "metadata": {
    "colab": {
      "provenance": []
    },
    "kernelspec": {
      "display_name": "venv",
      "language": "python",
      "name": "python3"
    },
    "language_info": {
      "codemirror_mode": {
        "name": "ipython",
        "version": 3
      },
      "file_extension": ".py",
      "mimetype": "text/x-python",
      "name": "python",
      "nbconvert_exporter": "python",
      "pygments_lexer": "ipython3",
      "version": "3.12.0"
    }
  },
  "nbformat": 4,
  "nbformat_minor": 0
}
