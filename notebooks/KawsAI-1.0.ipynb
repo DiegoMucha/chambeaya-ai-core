{
  "cells": [
    {
      "cell_type": "markdown",
      "metadata": {
        "id": "e1gHbGuAYtJN"
      },
      "source": [
        "# **KawsAI - Un Modelo de IA para Matching de ChambeaYa**\n",
        "\n",
        "En este notebook se guarda el proceso que se hizo para crear el modelo de IA KawsAI. El objetivo de KawsAI, es hacer el matching con la mejor mype a cada estudiante. Así, el estudiante y la mype pueden conectar para poder trabajar juntos.\n",
        "\n",
        "### **Versión:**\n",
        "1.0\n",
        "\n",
        "### **Objetivo:**\n",
        "El objetivo de KawsAI es lograr hacer el mejor match entre estudiantes y mypes. Este match se va a basar en datos que ChambeaYa va a recopilar de ambos lados a traves de su página web. El objetivo principal es lograr indicar a un estudiante cual es el puesto que ofrece una mype que mas coincide con sus conocimientos, y así aumentar mucho las probabilidades de conexión.\n",
        "\n",
        "### **Descripción de los Datasets**\n",
        "Para la versión 1.0 vamos a usar datasets simulados con la ayuda de la IA de ChatGPT. Se le pidió a ChatGPT simular 2 datasets en forma de tablas y en formato .csv, que son estudiantes_test.csv y mypes_test.csv. Cada una de las columnas de estos datasets contiene información que se va a solicitar a los usuarios ingresar en nuestra plataforma.\n",
        "\n",
        "##### Descrición de columnas de estudiantes:\n",
        "\n",
        "##### Descripción de columnas de mypes:\n",
        "\n",
        "### **Índice**\n",
        "\n"
      ]
    },
    {
      "cell_type": "code",
      "execution_count": 38,
      "metadata": {
        "id": "TcKFP7wtOn7-"
      },
      "outputs": [],
      "source": [
        "# Primeramente importamos las librerias\n",
        "import nltk\n",
        "from nltk.corpus import stopwords\n",
        "import re\n",
        "import pandas as pd\n",
        "import numpy as np\n",
        "import spacy\n",
        "from spacy.lang.es.stop_words import STOP_WORDS as spacy_stopwords\n",
        "import requests\n",
        "from sklearn.feature_extraction.text import TfidfVectorizer\n",
        "from sklearn.metrics.pairwise import cosine_similarity"
      ]
    },
    {
      "cell_type": "code",
      "execution_count": 3,
      "metadata": {
        "colab": {
          "base_uri": "https://localhost:8080/"
        },
        "id": "I-YYfi0oYpmz",
        "outputId": "27606de4-1be5-46eb-90c1-f003c2f8a1ef"
      },
      "outputs": [
        {
          "name": "stdout",
          "output_type": "stream",
          "text": [
            "Collecting es-core-news-sm==3.8.0\n",
            "  Downloading https://github.com/explosion/spacy-models/releases/download/es_core_news_sm-3.8.0/es_core_news_sm-3.8.0-py3-none-any.whl (12.9 MB)\n",
            "\u001b[2K     \u001b[90m━━━━━━━━━━━━━━━━━━━━━━━━━━━━━━━━━━━━━━━━\u001b[0m \u001b[32m12.9/12.9 MB\u001b[0m \u001b[31m11.4 MB/s\u001b[0m eta \u001b[36m0:00:00\u001b[0m00:01\u001b[0m00:01\u001b[0m\n",
            "\u001b[?25h\u001b[38;5;2m✔ Download and installation successful\u001b[0m\n",
            "You can now load the package via spacy.load('es_core_news_sm')\n"
          ]
        }
      ],
      "source": [
        "!python -m spacy download es_core_news_sm"
      ]
    },
    {
      "cell_type": "code",
      "execution_count": 40,
      "metadata": {
        "id": "rofH0DQLO189"
      },
      "outputs": [],
      "source": [
        "# Ahora leemos los csv y los guardamos en dataframes de pandas\n",
        "estudiantes = pd.read_csv(\"../datasets/estudiantes_test.csv\")\n",
        "mypes = pd.read_csv(\"../datasets/mypes_test.csv\")"
      ]
    },
    {
      "cell_type": "code",
      "execution_count": 41,
      "metadata": {
        "id": "WP9wSmCDOgdi"
      },
      "outputs": [],
      "source": [
        "nlp = spacy.load(\"es_core_news_sm\")\n",
        "\n",
        "def preprocesar(text):\n",
        "  text = text.lower()\n",
        "  text = re.sub(r\"[^\\w\\s]\", \" \", text)     # Quita puntuación\n",
        "  text = re.sub(r\"\\s+\", \" \", text).strip() # Espacios múltiples\n",
        "\n",
        "  doc = nlp(text)\n",
        "  tokens = []\n",
        "\n",
        "  for token in doc:\n",
        "    if token.is_stop or token.is_punct or token.is_space:\n",
        "      continue\n",
        "    if token.like_num:\n",
        "      continue\n",
        "    tokens.append(token.lemma_)\n",
        "  return \" \".join(tokens)"
      ]
    },
    {
      "cell_type": "markdown",
      "metadata": {
        "id": "hVCs8p6u2Fiy"
      },
      "source": [
        "# 1er Filtro - Filtrado por columnas específicas"
      ]
    },
    {
      "cell_type": "code",
      "execution_count": 42,
      "metadata": {
        "id": "pVzlVwMqTDoe"
      },
      "outputs": [],
      "source": [
        "def filtrar_por_columnas(indice_estudiante, estudiantes, mypes):\n",
        "    estudiante = estudiantes.iloc[indice_estudiante]\n",
        "    modalidad = estudiante[\"modalidad_preferida\"]\n",
        "    horas_disponibles = estudiante[\"disponibilidad_semanal\"]\n",
        "\n",
        "    print(f\"{modalidad} {horas_disponibles}\")\n",
        "    # Filtrar por modalidad y horas\n",
        "    mypes_aux = mypes[\n",
        "        (mypes[\"modalidad_proyecto\"] == modalidad) &\n",
        "        (mypes[\"horas_requeridas\"] <= horas_disponibles)\n",
        "    ]\n",
        "    return mypes_aux.reset_index(drop=True)\n"
      ]
    },
    {
      "cell_type": "code",
      "execution_count": 7,
      "metadata": {
        "colab": {
          "base_uri": "https://localhost:8080/"
        },
        "id": "jhz5Q-fbhnf3",
        "outputId": "2543e6a4-68fa-4521-d64e-65ab1bee3c36"
      },
      "outputs": [
        {
          "name": "stdout",
          "output_type": "stream",
          "text": [
            "Presencial 25\n"
          ]
        }
      ],
      "source": [
        "mypes_filtradas = filtrar_por_columnas(6, estudiantes, mypes)"
      ]
    },
    {
      "cell_type": "code",
      "execution_count": 19,
      "metadata": {
        "colab": {
          "base_uri": "https://localhost:8080/"
        },
        "id": "DOqFyXcvoy5R",
        "outputId": "e5e56bf4-eaa0-4302-b0dc-54de3449ea82"
      },
      "outputs": [
        {
          "data": {
            "text/plain": [
              "(665, 8)"
            ]
          },
          "execution_count": 19,
          "metadata": {},
          "output_type": "execute_result"
        }
      ],
      "source": [
        "mypes_filtradas.shape"
      ]
    },
    {
      "cell_type": "markdown",
      "metadata": {
        "id": "KFU4zqDvnXBF"
      },
      "source": [
        "# Ahora preprocesamos solo el estudiante y las mypes_filtradas"
      ]
    },
    {
      "cell_type": "code",
      "execution_count": 9,
      "metadata": {
        "colab": {
          "base_uri": "https://localhost:8080/"
        },
        "id": "aRUeO2jxnT6l",
        "outputId": "cc797d26-c4a3-4c0c-d89f-f83ce6aef53d"
      },
      "outputs": [
        {
          "name": "stderr",
          "output_type": "stream",
          "text": [
            "/tmp/ipykernel_189448/3188254507.py:3: SettingWithCopyWarning: \n",
            "A value is trying to be set on a copy of a slice from a DataFrame\n",
            "\n",
            "See the caveats in the documentation: https://pandas.pydata.org/pandas-docs/stable/user_guide/indexing.html#returning-a-view-versus-a-copy\n",
            "  estudiante[\"skill_estrella\"] = preprocesar(estudiante[\"skill_estrella\"])\n",
            "/tmp/ipykernel_189448/3188254507.py:4: SettingWithCopyWarning: \n",
            "A value is trying to be set on a copy of a slice from a DataFrame\n",
            "\n",
            "See the caveats in the documentation: https://pandas.pydata.org/pandas-docs/stable/user_guide/indexing.html#returning-a-view-versus-a-copy\n",
            "  estudiante[\"motivación_principal\"] = preprocesar(estudiante[\"motivación_principal\"])\n",
            "/tmp/ipykernel_189448/3188254507.py:5: SettingWithCopyWarning: \n",
            "A value is trying to be set on a copy of a slice from a DataFrame\n",
            "\n",
            "See the caveats in the documentation: https://pandas.pydata.org/pandas-docs/stable/user_guide/indexing.html#returning-a-view-versus-a-copy\n",
            "  estudiante[\"areas_interes\"] = preprocesar(estudiante[\"areas_interes\"])\n"
          ]
        }
      ],
      "source": [
        "# Para el estudiante\n",
        "estudiante = estudiantes.iloc[6]\n",
        "estudiante[\"skill_estrella\"] = preprocesar(estudiante[\"skill_estrella\"])\n",
        "estudiante[\"motivación_principal\"] = preprocesar(estudiante[\"motivación_principal\"])\n",
        "estudiante[\"areas_interes\"] = preprocesar(estudiante[\"areas_interes\"])"
      ]
    },
    {
      "cell_type": "code",
      "execution_count": 10,
      "metadata": {
        "colab": {
          "base_uri": "https://localhost:8080/",
          "height": 429
        },
        "id": "0fomSgispOTE",
        "outputId": "3472fa6e-d0bd-453c-b4e0-50e298ea11f6"
      },
      "outputs": [
        {
          "data": {
            "text/plain": [
              "nombre                                                         Carlos López\n",
              "correo                                         carlos.lópez21@correo.edu.pe\n",
              "ubicación                               Trujillo, La Libertad, Víctor Larco\n",
              "skill_estrella               diseño material publicitario adobe illustrator\n",
              "motivación_principal                                               aprender\n",
              "hobbies                                              Voluntariado ambiental\n",
              "disponibilidad_semanal                                                   25\n",
              "modalidad_preferida                                              Presencial\n",
              "areas_interes             fundamento diseño gráfico metodología básico d...\n",
              "carrera                                                      Diseño Gráfico\n",
              "ciclo                                                                     3\n",
              "Name: 6, dtype: object"
            ]
          },
          "execution_count": 10,
          "metadata": {},
          "output_type": "execute_result"
        }
      ],
      "source": [
        "estudiante"
      ]
    },
    {
      "cell_type": "code",
      "execution_count": 11,
      "metadata": {
        "id": "-SljoTqxoQ9E"
      },
      "outputs": [],
      "source": [
        "# Para la mype\n",
        "mypes_filtradas[\"área_reto\"] = mypes_filtradas[\"área_reto\"].apply(preprocesar)\n",
        "mypes_filtradas[\"descripción_reto\"] = mypes_filtradas[\"descripción_reto\"].apply(preprocesar)\n",
        "mypes_filtradas[\"habilidades_requeridas\"] = mypes_filtradas[\"habilidades_requeridas\"].apply(preprocesar)\n",
        "mypes_filtradas[\"cultura_empresa\"] = mypes_filtradas[\"cultura_empresa\"].apply(preprocesar)"
      ]
    },
    {
      "cell_type": "code",
      "execution_count": 12,
      "metadata": {
        "colab": {
          "base_uri": "https://localhost:8080/",
          "height": 258
        },
        "id": "HVGRujv_pk7U",
        "outputId": "a461fa40-5ff9-4a7a-da79-22c8766e9aed"
      },
      "outputs": [
        {
          "data": {
            "text/html": [
              "<div>\n",
              "<style scoped>\n",
              "    .dataframe tbody tr th:only-of-type {\n",
              "        vertical-align: middle;\n",
              "    }\n",
              "\n",
              "    .dataframe tbody tr th {\n",
              "        vertical-align: top;\n",
              "    }\n",
              "\n",
              "    .dataframe thead th {\n",
              "        text-align: right;\n",
              "    }\n",
              "</style>\n",
              "<table border=\"1\" class=\"dataframe\">\n",
              "  <thead>\n",
              "    <tr style=\"text-align: right;\">\n",
              "      <th></th>\n",
              "      <th>nombre_empresa</th>\n",
              "      <th>RUC</th>\n",
              "      <th>área_reto</th>\n",
              "      <th>descripción_reto</th>\n",
              "      <th>habilidades_requeridas</th>\n",
              "      <th>cultura_empresa</th>\n",
              "      <th>horas_requeridas</th>\n",
              "      <th>modalidad_proyecto</th>\n",
              "    </tr>\n",
              "  </thead>\n",
              "  <tbody>\n",
              "    <tr>\n",
              "      <th>0</th>\n",
              "      <td>Soluciones Marketing Corporación</td>\n",
              "      <td>70925802916</td>\n",
              "      <td>legal</td>\n",
              "      <td>necesitar elaborar política interno claro concisa</td>\n",
              "      <td>redacción legal derecho empresarial análisis c...</td>\n",
              "      <td>empresa joven tecnológico</td>\n",
              "      <td>20</td>\n",
              "      <td>Presencial</td>\n",
              "    </tr>\n",
              "    <tr>\n",
              "      <th>1</th>\n",
              "      <td>Progreso Marketing SRL</td>\n",
              "      <td>34980195388</td>\n",
              "      <td>marketing</td>\n",
              "      <td>buscar desarrollar estrategia contenido captar...</td>\n",
              "      <td>seo googlar ads marketing digital</td>\n",
              "      <td>organización orientado impacto social</td>\n",
              "      <td>20</td>\n",
              "      <td>Presencial</td>\n",
              "    </tr>\n",
              "    <tr>\n",
              "      <th>2</th>\n",
              "      <td>Progreso Exportaciones SAC</td>\n",
              "      <td>87188857461</td>\n",
              "      <td>legal</td>\n",
              "      <td>necesitar elaborar política interno claro concisa</td>\n",
              "      <td>excel normativo peruano derecho empresarial an...</td>\n",
              "      <td>startup dinámico colaborativo</td>\n",
              "      <td>25</td>\n",
              "      <td>Presencial</td>\n",
              "    </tr>\n",
              "    <tr>\n",
              "      <th>3</th>\n",
              "      <td>Servicios Exportaciones Corporación</td>\n",
              "      <td>38319868934</td>\n",
              "      <td>recurso humano</td>\n",
              "      <td>mejorar proceso reclutamiento selección</td>\n",
              "      <td>psicología organizacional comunicación efectiv...</td>\n",
              "      <td>empresa familiar enfoque innovación social</td>\n",
              "      <td>25</td>\n",
              "      <td>Presencial</td>\n",
              "    </tr>\n",
              "    <tr>\n",
              "      <th>4</th>\n",
              "      <td>Comercial Diseño SPA</td>\n",
              "      <td>96105252980</td>\n",
              "      <td>diseño</td>\n",
              "      <td>rediseñar página web mejorar experiencia usuario</td>\n",
              "      <td>figma html css adobe illustrator</td>\n",
              "      <td>organización orientado impacto social</td>\n",
              "      <td>25</td>\n",
              "      <td>Presencial</td>\n",
              "    </tr>\n",
              "  </tbody>\n",
              "</table>\n",
              "</div>"
            ],
            "text/plain": [
              "                        nombre_empresa          RUC       área_reto  \\\n",
              "0     Soluciones Marketing Corporación  70925802916           legal   \n",
              "1               Progreso Marketing SRL  34980195388       marketing   \n",
              "2           Progreso Exportaciones SAC  87188857461           legal   \n",
              "3  Servicios Exportaciones Corporación  38319868934  recurso humano   \n",
              "4                 Comercial Diseño SPA  96105252980          diseño   \n",
              "\n",
              "                                    descripción_reto  \\\n",
              "0  necesitar elaborar política interno claro concisa   \n",
              "1  buscar desarrollar estrategia contenido captar...   \n",
              "2  necesitar elaborar política interno claro concisa   \n",
              "3            mejorar proceso reclutamiento selección   \n",
              "4   rediseñar página web mejorar experiencia usuario   \n",
              "\n",
              "                              habilidades_requeridas  \\\n",
              "0  redacción legal derecho empresarial análisis c...   \n",
              "1                  seo googlar ads marketing digital   \n",
              "2  excel normativo peruano derecho empresarial an...   \n",
              "3  psicología organizacional comunicación efectiv...   \n",
              "4                   figma html css adobe illustrator   \n",
              "\n",
              "                              cultura_empresa  horas_requeridas  \\\n",
              "0                   empresa joven tecnológico                20   \n",
              "1       organización orientado impacto social                20   \n",
              "2               startup dinámico colaborativo                25   \n",
              "3  empresa familiar enfoque innovación social                25   \n",
              "4       organización orientado impacto social                25   \n",
              "\n",
              "  modalidad_proyecto  \n",
              "0         Presencial  \n",
              "1         Presencial  \n",
              "2         Presencial  \n",
              "3         Presencial  \n",
              "4         Presencial  "
            ]
          },
          "execution_count": 12,
          "metadata": {},
          "output_type": "execute_result"
        }
      ],
      "source": [
        "mypes_filtradas.head()"
      ]
    },
    {
      "cell_type": "markdown",
      "metadata": {
        "id": "N96tKcSWha4-"
      },
      "source": [
        "# 2do Filtro - Creamos los vectores TF-IDF para el subset de mypes"
      ]
    },
    {
      "cell_type": "code",
      "execution_count": null,
      "metadata": {
        "id": "skUpwLLFhjy-"
      },
      "outputs": [],
      "source": [
        "def concatenar_texto_estudiante(estudiantes):\n",
        "  return (\n",
        "      str(estudiantes[\"skill_estrella\"]) + \" \" +\n",
        "      str(estudiantes[\"motivación_principal\"]) + \" \" +\n",
        "      str(estudiantes[\"areas_interes\"])\n",
        "  )\n",
        "\n",
        "def concatenar_texto_mypes(mypes):\n",
        "  return (\n",
        "      str(mypes[\"área_reto\"]) + \" \" +\n",
        "      str(mypes[\"descripción_reto\"]) + \" \" +\n",
        "      str(mypes[\"habilidades_requeridas\"]) + \" \" +\n",
        "      str(mypes[\"cultura_empresa\"])\n",
        "  )\n",
        "\n",
        "def calcular_similitud_texto(estudiante, mypes_filtradas):\n",
        "    # primero concatenamos todo\n",
        "    texto_estudiante = concatenar_texto_estudiante(estudiante)\n",
        "    textos_mypes = mypes_filtradas.apply(concatenar_texto_mypes, axis=1)\n",
        "\n",
        "    # Ahora juntamos el texto estudiante con el texto de las mipes con lista\n",
        "    corpus = [texto_estudiante] + textos_mypes.tolist()\n",
        "\n",
        "    # Hacemos la vectorización TF-IDF\n",
        "    vectorizer = TfidfVectorizer()\n",
        "    tfidf_matrix = vectorizer.fit_transform(corpus)\n",
        "\n",
        "    # Ahora hacemos el cosine similarity\n",
        "    similitudes = cosine_similarity(tfidf_matrix[0:1], tfidf_matrix[1:])[0]\n",
        "\n",
        "    # Ahora usamos una columna de similitud\n",
        "    mypes_filtradas = mypes_filtradas.copy()\n",
        "    mypes_filtradas[\"similitud\"] = similitudes\n",
        "\n",
        "    # Ordenamos las mypes_filtradas de mayor a menor\n",
        "    mypes_filtradas = mypes_filtradas.sort_values(by=\"similitud\", ascending=False).reset_index(drop=True)\n",
        "\n",
        "    return mypes_filtradas"
      ]
    },
    {
      "cell_type": "code",
      "execution_count": 15,
      "metadata": {
        "colab": {
          "base_uri": "https://localhost:8080/",
          "height": 442
        },
        "id": "GyRlMDY8lrXm",
        "outputId": "fae42780-78e6-4f90-d207-8c31aa253ea6"
      },
      "outputs": [
        {
          "name": "stdout",
          "output_type": "stream",
          "text": [
            "Presencial 25\n"
          ]
        },
        {
          "data": {
            "text/html": [
              "<div>\n",
              "<style scoped>\n",
              "    .dataframe tbody tr th:only-of-type {\n",
              "        vertical-align: middle;\n",
              "    }\n",
              "\n",
              "    .dataframe tbody tr th {\n",
              "        vertical-align: top;\n",
              "    }\n",
              "\n",
              "    .dataframe thead th {\n",
              "        text-align: right;\n",
              "    }\n",
              "</style>\n",
              "<table border=\"1\" class=\"dataframe\">\n",
              "  <thead>\n",
              "    <tr style=\"text-align: right;\">\n",
              "      <th></th>\n",
              "      <th>RUC</th>\n",
              "      <th>similitud</th>\n",
              "    </tr>\n",
              "  </thead>\n",
              "  <tbody>\n",
              "    <tr>\n",
              "      <th>0</th>\n",
              "      <td>53206862288</td>\n",
              "      <td>0.391569</td>\n",
              "    </tr>\n",
              "    <tr>\n",
              "      <th>1</th>\n",
              "      <td>14894252875</td>\n",
              "      <td>0.388043</td>\n",
              "    </tr>\n",
              "    <tr>\n",
              "      <th>2</th>\n",
              "      <td>33820574064</td>\n",
              "      <td>0.381881</td>\n",
              "    </tr>\n",
              "    <tr>\n",
              "      <th>3</th>\n",
              "      <td>81227971577</td>\n",
              "      <td>0.381151</td>\n",
              "    </tr>\n",
              "    <tr>\n",
              "      <th>4</th>\n",
              "      <td>45831847091</td>\n",
              "      <td>0.370377</td>\n",
              "    </tr>\n",
              "    <tr>\n",
              "      <th>...</th>\n",
              "      <td>...</td>\n",
              "      <td>...</td>\n",
              "    </tr>\n",
              "    <tr>\n",
              "      <th>660</th>\n",
              "      <td>37965841620</td>\n",
              "      <td>0.000000</td>\n",
              "    </tr>\n",
              "    <tr>\n",
              "      <th>661</th>\n",
              "      <td>14366201374</td>\n",
              "      <td>0.000000</td>\n",
              "    </tr>\n",
              "    <tr>\n",
              "      <th>662</th>\n",
              "      <td>30804139665</td>\n",
              "      <td>0.000000</td>\n",
              "    </tr>\n",
              "    <tr>\n",
              "      <th>663</th>\n",
              "      <td>92231914025</td>\n",
              "      <td>0.000000</td>\n",
              "    </tr>\n",
              "    <tr>\n",
              "      <th>664</th>\n",
              "      <td>97260502181</td>\n",
              "      <td>0.000000</td>\n",
              "    </tr>\n",
              "  </tbody>\n",
              "</table>\n",
              "<p>665 rows × 2 columns</p>\n",
              "</div>"
            ],
            "text/plain": [
              "             RUC  similitud\n",
              "0    53206862288   0.391569\n",
              "1    14894252875   0.388043\n",
              "2    33820574064   0.381881\n",
              "3    81227971577   0.381151\n",
              "4    45831847091   0.370377\n",
              "..           ...        ...\n",
              "660  37965841620   0.000000\n",
              "661  14366201374   0.000000\n",
              "662  30804139665   0.000000\n",
              "663  92231914025   0.000000\n",
              "664  97260502181   0.000000\n",
              "\n",
              "[665 rows x 2 columns]"
            ]
          },
          "execution_count": 15,
          "metadata": {},
          "output_type": "execute_result"
        }
      ],
      "source": [
        "# 2. Filtrar MYPEs compatibles\n",
        "mypes_filtradas = filtrar_por_columnas(6, estudiantes, mypes)\n",
        "\n",
        "# 3. Calcular similitudes\n",
        "mypes_con_similitud = calcular_similitud_texto(estudiante, mypes_filtradas)\n",
        "\n",
        "# 4. Ver resultado\n",
        "mypes_con_similitud[[\"RUC\", \"similitud\"]]\n"
      ]
    },
    {
      "cell_type": "code",
      "execution_count": 16,
      "metadata": {
        "colab": {
          "base_uri": "https://localhost:8080/",
          "height": 429
        },
        "id": "TIZsOR1XmlZA",
        "outputId": "113406b1-fa24-4056-cff3-6fc78f959768"
      },
      "outputs": [
        {
          "data": {
            "text/plain": [
              "nombre                                                         Carlos López\n",
              "correo                                         carlos.lópez21@correo.edu.pe\n",
              "ubicación                               Trujillo, La Libertad, Víctor Larco\n",
              "skill_estrella            Diseño de material publicitario en Adobe Illus...\n",
              "motivación_principal                                               Aprender\n",
              "hobbies                                              Voluntariado ambiental\n",
              "disponibilidad_semanal                                                   25\n",
              "modalidad_preferida                                              Presencial\n",
              "areas_interes             Fundamentos de Diseño Gráfico, Metodologías bá...\n",
              "carrera                                                      Diseño Gráfico\n",
              "ciclo                                                                     3\n",
              "Name: 6, dtype: object"
            ]
          },
          "execution_count": 16,
          "metadata": {},
          "output_type": "execute_result"
        }
      ],
      "source": [
        "estudiantes.iloc[6]"
      ]
    },
    {
      "cell_type": "code",
      "execution_count": 17,
      "metadata": {
        "colab": {
          "base_uri": "https://localhost:8080/",
          "height": 81
        },
        "id": "fBo8CWkJmwXh",
        "outputId": "1f4ab900-271e-4498-f143-d2f7eb1c9d13"
      },
      "outputs": [
        {
          "data": {
            "text/html": [
              "<div>\n",
              "<style scoped>\n",
              "    .dataframe tbody tr th:only-of-type {\n",
              "        vertical-align: middle;\n",
              "    }\n",
              "\n",
              "    .dataframe tbody tr th {\n",
              "        vertical-align: top;\n",
              "    }\n",
              "\n",
              "    .dataframe thead th {\n",
              "        text-align: right;\n",
              "    }\n",
              "</style>\n",
              "<table border=\"1\" class=\"dataframe\">\n",
              "  <thead>\n",
              "    <tr style=\"text-align: right;\">\n",
              "      <th></th>\n",
              "      <th>nombre_empresa</th>\n",
              "      <th>RUC</th>\n",
              "      <th>área_reto</th>\n",
              "      <th>descripción_reto</th>\n",
              "      <th>habilidades_requeridas</th>\n",
              "      <th>cultura_empresa</th>\n",
              "      <th>horas_requeridas</th>\n",
              "      <th>modalidad_proyecto</th>\n",
              "    </tr>\n",
              "  </thead>\n",
              "  <tbody>\n",
              "    <tr>\n",
              "      <th>239</th>\n",
              "      <td>Estrategias Legal SRL</td>\n",
              "      <td>53206862288</td>\n",
              "      <td>Diseño</td>\n",
              "      <td>Requerimos material gráfico para redes y prese...</td>\n",
              "      <td>Adobe Illustrator, HTML/CSS</td>\n",
              "      <td>Startup dinámica y colaborativa</td>\n",
              "      <td>20</td>\n",
              "      <td>Presencial</td>\n",
              "    </tr>\n",
              "  </tbody>\n",
              "</table>\n",
              "</div>"
            ],
            "text/plain": [
              "            nombre_empresa          RUC área_reto  \\\n",
              "239  Estrategias Legal SRL  53206862288    Diseño   \n",
              "\n",
              "                                      descripción_reto  \\\n",
              "239  Requerimos material gráfico para redes y prese...   \n",
              "\n",
              "          habilidades_requeridas                  cultura_empresa  \\\n",
              "239  Adobe Illustrator, HTML/CSS  Startup dinámica y colaborativa   \n",
              "\n",
              "     horas_requeridas modalidad_proyecto  \n",
              "239                20         Presencial  "
            ]
          },
          "execution_count": 17,
          "metadata": {},
          "output_type": "execute_result"
        }
      ],
      "source": [
        "mypes_filtradas[mypes_filtradas['RUC']==53206862288]"
      ]
    },
    {
      "cell_type": "markdown",
      "metadata": {
        "id": "4Pykjrx-joWZ"
      },
      "source": []
    }
  ],
  "metadata": {
    "colab": {
      "provenance": []
    },
    "kernelspec": {
      "display_name": "venv",
      "language": "python",
      "name": "python3"
    },
    "language_info": {
      "codemirror_mode": {
        "name": "ipython",
        "version": 3
      },
      "file_extension": ".py",
      "mimetype": "text/x-python",
      "name": "python",
      "nbconvert_exporter": "python",
      "pygments_lexer": "ipython3",
      "version": "3.12.3"
    }
  },
  "nbformat": 4,
  "nbformat_minor": 0
}
