{
  "cells": [
    {
      "cell_type": "markdown",
      "metadata": {
        "id": "e1gHbGuAYtJN"
      },
      "source": [
        "# **KawsAI - Un Modelo de IA para Matching de ChambeaYa**\n",
        "\n",
        "En este notebook se guarda el proceso que se hizo para crear el modelo de IA KawsAI. El objetivo de KawsAI, es hacer el matching con la mejor mype a cada estudiante. Así, el estudiante y la mype pueden conectar para poder trabajar juntos.\n",
        "\n",
        "### **I. Versión:**\n",
        "1.0\n",
        "\n",
        "### **II. Objetivo:**\n",
        "El objetivo de KawsAI es lograr hacer el mejor match entre estudiantes y mypes. Este match se va a basar en datos que ChambeaYa va a recopilar de ambos lados a traves de su página web. El objetivo principal es lograr indicar a un estudiante cual es el puesto que ofrece una mype que mas coincide con sus conocimientos, y así aumentar mucho las probabilidades de conexión.\n",
        "\n",
        "### **III. Descripción de los Datasets**\n",
        "Para la versión 1.0 vamos a usar datasets simulados con la ayuda de la IA de ChatGPT. Se le pidió a ChatGPT simular 2 datasets en forma de tablas y en formato .csv, que son estudiantes_test.csv y mypes_test.csv. Cada una de las columnas de estos datasets contiene información que se va a solicitar a los usuarios ingresar en nuestra plataforma.\n",
        "\n",
        "##### IIIa. Descripción de columnas de estudiantes:\n",
        "- **id_estudiante:** ID único del estudiante (string)\n",
        "- **nombre:** Nombres del estudiante (string)\n",
        "- **correo:** Correo del estudiante (string)\n",
        "- **ubicacion:** La ubicación de la residencia del estudiante (string)\n",
        "- **skill_estrella:** La habilidad mas desarollada o destacada del estudiante (string)\n",
        "- **motivacion_principal:** Cual es la motivacion mas importante del estudiante en su carrera profesional (string)\n",
        "- **hobbies:** Hobbies que tiene el estudiante (string)\n",
        "- **disponibilidad_semanal:** Horas disponibles que tiene el estudiante a la semana para trabajar (int)\n",
        "- **modalidad_preferida:** Modalidad de trabajo preferida por el estudiante, solo Presencial, Híbrido o Remoto (string)\n",
        "- **areas_interes:** Áreas profesionales en las que está interesad@ el estudiante. (string)\n",
        "- **carrera:** La carrera que esta cursando el estudiante (string)\n",
        "- **ciclo:** El ciclo o semestre en el que se encuentra el estudiante (int)\n",
        "\n",
        "##### IIIb. Descripción de columnas de mypes:\n",
        "- **RUC:** RUC de la mype, sirve como identificador (string)\n",
        "- **nombre_empresa:** El nombre de la mype (string)\n",
        "- **area_reto:** El area donde la mype esta buscando el puesto u objetivo (string)\n",
        "- **descripcion_reto:** Es la descripción mas larga de lo que la mype busca y quiere relaizar (string)\n",
        "- **habilidades_requeridas:** Las habilidades que la mype requiere de los estudiantes que postulen (string)\n",
        "- **horas_requeridas:** Son las horas semanales que la mype requiere como mínimo. (string)\n",
        "- **modalidad_proyecto:** Es la modalidad con la que la mype ofreceria empleos. (string)\n",
        "- **ubicacion:** La ubicación donde se encuentra localizada la mype. (string)\n",
        "\n",
        "### **IV. Índice**\n",
        "1. Carga de Librerias"
      ]
    },
    {
      "cell_type": "markdown",
      "metadata": {},
      "source": [
        "## 1. Carga de Librerias"
      ]
    },
    {
      "cell_type": "code",
      "execution_count": 1,
      "metadata": {
        "id": "TcKFP7wtOn7-"
      },
      "outputs": [],
      "source": [
        "# Todas las librerias que se deben importar\n",
        "import nltk\n",
        "from nltk.corpus import stopwords\n",
        "import re\n",
        "import pandas as pd\n",
        "import numpy as np\n",
        "import spacy\n",
        "from spacy.lang.es.stop_words import STOP_WORDS as spacy_stopwords\n",
        "import requests\n",
        "from sklearn.feature_extraction.text import TfidfVectorizer\n",
        "from sklearn.metrics.pairwise import cosine_similarity"
      ]
    },
    {
      "cell_type": "markdown",
      "metadata": {},
      "source": [
        "## 2. Carga de datos en DataFrames"
      ]
    },
    {
      "cell_type": "code",
      "execution_count": 19,
      "metadata": {
        "id": "rofH0DQLO189"
      },
      "outputs": [],
      "source": [
        "# Ahora leemos los csv y los guardamos en dataframes de pandas\n",
        "estudiantes = pd.read_csv(\"../datasets/estudiantes_test.csv\", index_col=False)\n",
        "mypes = pd.read_csv(\"../datasets/mypes_test.csv\", index_col=False)"
      ]
    },
    {
      "cell_type": "markdown",
      "metadata": {},
      "source": [
        "## 3. Función de Preprocesamiento de Datos"
      ]
    },
    {
      "cell_type": "code",
      "execution_count": null,
      "metadata": {
        "id": "WP9wSmCDOgdi"
      },
      "outputs": [],
      "source": [
        "# Usamos nlp que nos permite realizar el preprocesado mucho mas rápido\n",
        "nlp = spacy.load(\"es_core_news_sm\")\n",
        "\n",
        "# La función de pre-procesamiento tiene 4 partes:\n",
        "# 1) Eliminar simbolos gramaticales\n",
        "# 2) Tokenización\n",
        "# 3) Lematización\n",
        "# 4) Filtrar las stop words (palabras que no aportan contexto importante)\n",
        "def preprocesar(text):\n",
        "  \n",
        "  # Eliminamos todos los signos de puntuación y simbolos gramaticales. Además volvemos el texto minúscula\n",
        "  text = text.lower()\n",
        "  text = re.sub(r\"[^\\w\\s]\", \" \", text)\n",
        "  text = re.sub(r\"\\s+\", \" \", text).strip()\n",
        "\n",
        "  # Aplicamos la lematización al texto con nlp, que nos provee las palabras ya lematizadas\n",
        "  doc = nlp(text)\n",
        "\n",
        "  # Creamos un arreglo para guardar las tokens (palabras del texto separadas)\n",
        "  tokens = []\n",
        "\n",
        "  # En un bucle, filtramos todas las tokens que sean puntuacion, que sean stopwords, o que sean puntuacion, espacios, etc.\n",
        "  for token in doc:\n",
        "    if token.is_stop or token.is_punct or token.is_space:\n",
        "      continue\n",
        "    if token.like_num:\n",
        "      continue\n",
        "    # Si el token pasa el filtrado, le aplicamos la lematización\n",
        "    tokens.append(token.lemma_)\n",
        "  # Por último, retornamos los tokens como una string que junta todos los datos\n",
        "  return \" \".join(tokens)"
      ]
    },
    {
      "cell_type": "markdown",
      "metadata": {
        "id": "hVCs8p6u2Fiy"
      },
      "source": [
        "## 4. Realizamos el 1er filtrado de Mypes de acuerdo a las características del estudiante "
      ]
    },
    {
      "cell_type": "code",
      "execution_count": null,
      "metadata": {
        "id": "pVzlVwMqTDoe"
      },
      "outputs": [],
      "source": [
        "# Con esta función, vamos a filtrar las mypes por las columnas que podemos relacionar directamente con el estudiante, como horas_requeridas\n",
        "# ubicación y modalidad_preferida\n",
        "\n",
        "# Para llamar esta función, vamos a realizar este filtrado por cada estudiante que quiera ver que mypes le hacen un mejor match\n",
        "def filtrar_por_columnas(indice_estudiante, estudiantes, mypes):\n",
        "    estudiante = estudiantes.iloc[indice_estudiante]\n",
        "    modalidad = estudiante[\"modalidad_preferida\"]\n",
        "    horas_disponibles = estudiante[\"disponibilidad_semanal\"]\n",
        "\n",
        "    print(f\"{modalidad} {horas_disponibles}\")\n",
        "    # Filtrar por modalidad y horas\n",
        "    mypes_aux = mypes[\n",
        "        (mypes[\"modalidad_proyecto\"] == modalidad) &\n",
        "        (mypes[\"horas_requeridas\"] <= horas_disponibles)\n",
        "    ]\n",
        "    return mypes_aux.reset_index(drop=True)\n"
      ]
    },
    {
      "cell_type": "code",
      "execution_count": 22,
      "metadata": {
        "colab": {
          "base_uri": "https://localhost:8080/"
        },
        "id": "jhz5Q-fbhnf3",
        "outputId": "2543e6a4-68fa-4521-d64e-65ab1bee3c36"
      },
      "outputs": [
        {
          "name": "stdout",
          "output_type": "stream",
          "text": [
            "Presencial 25\n"
          ]
        }
      ],
      "source": [
        "mypes_filtradas = filtrar_por_columnas(6, estudiantes, mypes)"
      ]
    },
    {
      "cell_type": "code",
      "execution_count": 6,
      "metadata": {
        "colab": {
          "base_uri": "https://localhost:8080/"
        },
        "id": "DOqFyXcvoy5R",
        "outputId": "e5e56bf4-eaa0-4302-b0dc-54de3449ea82"
      },
      "outputs": [
        {
          "data": {
            "text/plain": [
              "(665, 10)"
            ]
          },
          "execution_count": 6,
          "metadata": {},
          "output_type": "execute_result"
        }
      ],
      "source": [
        "mypes_filtradas.shape"
      ]
    },
    {
      "cell_type": "markdown",
      "metadata": {
        "id": "KFU4zqDvnXBF"
      },
      "source": [
        "# Ahora preprocesamos solo el estudiante y las mypes_filtradas"
      ]
    },
    {
      "cell_type": "code",
      "execution_count": 24,
      "metadata": {
        "colab": {
          "base_uri": "https://localhost:8080/"
        },
        "id": "aRUeO2jxnT6l",
        "outputId": "cc797d26-c4a3-4c0c-d89f-f83ce6aef53d"
      },
      "outputs": [
        {
          "name": "stdout",
          "output_type": "stream",
          "text": [
            "diseño de material publicitario en adobe illustrator\n",
            "aprender\n",
            "fundamentos de diseño gráfico metodologías básicas en diseño gráfico\n"
          ]
        },
        {
          "name": "stderr",
          "output_type": "stream",
          "text": [
            "/tmp/ipykernel_256176/1870823140.py:3: SettingWithCopyWarning: \n",
            "A value is trying to be set on a copy of a slice from a DataFrame\n",
            "\n",
            "See the caveats in the documentation: https://pandas.pydata.org/pandas-docs/stable/user_guide/indexing.html#returning-a-view-versus-a-copy\n",
            "  estudiante[\"skill_estrella\"] = preprocesar(estudiante[\"skill_estrella\"])\n",
            "/tmp/ipykernel_256176/1870823140.py:4: SettingWithCopyWarning: \n",
            "A value is trying to be set on a copy of a slice from a DataFrame\n",
            "\n",
            "See the caveats in the documentation: https://pandas.pydata.org/pandas-docs/stable/user_guide/indexing.html#returning-a-view-versus-a-copy\n",
            "  estudiante[\"motivacion_principal\"] = preprocesar(estudiante[\"motivacion_principal\"])\n",
            "/tmp/ipykernel_256176/1870823140.py:5: SettingWithCopyWarning: \n",
            "A value is trying to be set on a copy of a slice from a DataFrame\n",
            "\n",
            "See the caveats in the documentation: https://pandas.pydata.org/pandas-docs/stable/user_guide/indexing.html#returning-a-view-versus-a-copy\n",
            "  estudiante[\"areas_interes\"] = preprocesar(estudiante[\"areas_interes\"])\n"
          ]
        }
      ],
      "source": [
        "# Para el estudiante\n",
        "estudiante = estudiantes.iloc[6]\n",
        "estudiante[\"skill_estrella\"] = preprocesar(estudiante[\"skill_estrella\"])\n",
        "estudiante[\"motivacion_principal\"] = preprocesar(estudiante[\"motivacion_principal\"])\n",
        "estudiante[\"areas_interes\"] = preprocesar(estudiante[\"areas_interes\"])"
      ]
    },
    {
      "cell_type": "code",
      "execution_count": 10,
      "metadata": {
        "colab": {
          "base_uri": "https://localhost:8080/",
          "height": 429
        },
        "id": "0fomSgispOTE",
        "outputId": "3472fa6e-d0bd-453c-b4e0-50e298ea11f6"
      },
      "outputs": [
        {
          "data": {
            "text/plain": [
              "nombre                                                         Carlos López\n",
              "correo                                         carlos.lópez21@correo.edu.pe\n",
              "ubicación                               Trujillo, La Libertad, Víctor Larco\n",
              "skill_estrella               diseño material publicitario adobe illustrator\n",
              "motivación_principal                                               aprender\n",
              "hobbies                                              Voluntariado ambiental\n",
              "disponibilidad_semanal                                                   25\n",
              "modalidad_preferida                                              Presencial\n",
              "areas_interes             fundamento diseño gráfico metodología básico d...\n",
              "carrera                                                      Diseño Gráfico\n",
              "ciclo                                                                     3\n",
              "Name: 6, dtype: object"
            ]
          },
          "execution_count": 10,
          "metadata": {},
          "output_type": "execute_result"
        }
      ],
      "source": [
        "estudiante"
      ]
    },
    {
      "cell_type": "code",
      "execution_count": 9,
      "metadata": {
        "id": "-SljoTqxoQ9E"
      },
      "outputs": [],
      "source": [
        "# Para la mype\n",
        "mypes_filtradas[\"area_reto\"] = mypes_filtradas[\"area_reto\"].apply(preprocesar)\n",
        "mypes_filtradas[\"descripcion_reto\"] = mypes_filtradas[\"descripcion_reto\"].apply(preprocesar)\n",
        "mypes_filtradas[\"habilidades_requeridas\"] = mypes_filtradas[\"habilidades_requeridas\"].apply(preprocesar)\n",
        "mypes_filtradas[\"cultura_empresa\"] = mypes_filtradas[\"cultura_empresa\"].apply(preprocesar)"
      ]
    },
    {
      "cell_type": "code",
      "execution_count": 10,
      "metadata": {
        "colab": {
          "base_uri": "https://localhost:8080/",
          "height": 258
        },
        "id": "HVGRujv_pk7U",
        "outputId": "a461fa40-5ff9-4a7a-da79-22c8766e9aed"
      },
      "outputs": [
        {
          "data": {
            "text/html": [
              "<div>\n",
              "<style scoped>\n",
              "    .dataframe tbody tr th:only-of-type {\n",
              "        vertical-align: middle;\n",
              "    }\n",
              "\n",
              "    .dataframe tbody tr th {\n",
              "        vertical-align: top;\n",
              "    }\n",
              "\n",
              "    .dataframe thead th {\n",
              "        text-align: right;\n",
              "    }\n",
              "</style>\n",
              "<table border=\"1\" class=\"dataframe\">\n",
              "  <thead>\n",
              "    <tr style=\"text-align: right;\">\n",
              "      <th></th>\n",
              "      <th>Unnamed: 0</th>\n",
              "      <th>nombre_empresa</th>\n",
              "      <th>RUC</th>\n",
              "      <th>area_reto</th>\n",
              "      <th>descripcion_reto</th>\n",
              "      <th>habilidades_requeridas</th>\n",
              "      <th>cultura_empresa</th>\n",
              "      <th>horas_requeridas</th>\n",
              "      <th>modalidad_proyecto</th>\n",
              "      <th>ubicacion</th>\n",
              "    </tr>\n",
              "  </thead>\n",
              "  <tbody>\n",
              "    <tr>\n",
              "      <th>0</th>\n",
              "      <td>3</td>\n",
              "      <td>Soluciones Marketing Corporación</td>\n",
              "      <td>70925802916</td>\n",
              "      <td>legal</td>\n",
              "      <td>necesitar elaborar política interno claro concisa</td>\n",
              "      <td>redacción legal derecho empresarial análisis c...</td>\n",
              "      <td>empresa joven tecnológico</td>\n",
              "      <td>20</td>\n",
              "      <td>Presencial</td>\n",
              "      <td>Jr. Amazonas, Huaral, Lima</td>\n",
              "    </tr>\n",
              "    <tr>\n",
              "      <th>1</th>\n",
              "      <td>6</td>\n",
              "      <td>Progreso Marketing SRL</td>\n",
              "      <td>34980195388</td>\n",
              "      <td>marketing</td>\n",
              "      <td>buscar desarrollar estrategia contenido captar...</td>\n",
              "      <td>seo googlar ads marketing digital</td>\n",
              "      <td>organización orientado impacto social</td>\n",
              "      <td>20</td>\n",
              "      <td>Presencial</td>\n",
              "      <td>Av. Principal, Jaén, Cajamarca</td>\n",
              "    </tr>\n",
              "    <tr>\n",
              "      <th>2</th>\n",
              "      <td>15</td>\n",
              "      <td>Progreso Exportaciones SAC</td>\n",
              "      <td>87188857461</td>\n",
              "      <td>legal</td>\n",
              "      <td>necesitar elaborar política interno claro concisa</td>\n",
              "      <td>excel normativo peruano derecho empresarial an...</td>\n",
              "      <td>startup dinámico colaborativo</td>\n",
              "      <td>25</td>\n",
              "      <td>Presencial</td>\n",
              "      <td>Jr. San Martín, Moquegua, Moquegua</td>\n",
              "    </tr>\n",
              "    <tr>\n",
              "      <th>3</th>\n",
              "      <td>17</td>\n",
              "      <td>Servicios Exportaciones Corporación</td>\n",
              "      <td>38319868934</td>\n",
              "      <td>recurso humano</td>\n",
              "      <td>mejorar proceso reclutamiento selección</td>\n",
              "      <td>psicología organizacional comunicación efectiv...</td>\n",
              "      <td>empresa familiar enfoque innovación social</td>\n",
              "      <td>25</td>\n",
              "      <td>Presencial</td>\n",
              "      <td>Av. Principal, Chorrillos, Lima</td>\n",
              "    </tr>\n",
              "    <tr>\n",
              "      <th>4</th>\n",
              "      <td>21</td>\n",
              "      <td>Comercial Diseño SPA</td>\n",
              "      <td>96105252980</td>\n",
              "      <td>diseño</td>\n",
              "      <td>rediseñar página web mejorar experiencia usuario</td>\n",
              "      <td>figma html css adobe illustrator</td>\n",
              "      <td>organización orientado impacto social</td>\n",
              "      <td>25</td>\n",
              "      <td>Presencial</td>\n",
              "      <td>Av. Libertad, Tarapoto, San Martín</td>\n",
              "    </tr>\n",
              "  </tbody>\n",
              "</table>\n",
              "</div>"
            ],
            "text/plain": [
              "   Unnamed: 0                       nombre_empresa          RUC  \\\n",
              "0           3     Soluciones Marketing Corporación  70925802916   \n",
              "1           6               Progreso Marketing SRL  34980195388   \n",
              "2          15           Progreso Exportaciones SAC  87188857461   \n",
              "3          17  Servicios Exportaciones Corporación  38319868934   \n",
              "4          21                 Comercial Diseño SPA  96105252980   \n",
              "\n",
              "        area_reto                                   descripcion_reto  \\\n",
              "0           legal  necesitar elaborar política interno claro concisa   \n",
              "1       marketing  buscar desarrollar estrategia contenido captar...   \n",
              "2           legal  necesitar elaborar política interno claro concisa   \n",
              "3  recurso humano            mejorar proceso reclutamiento selección   \n",
              "4          diseño   rediseñar página web mejorar experiencia usuario   \n",
              "\n",
              "                              habilidades_requeridas  \\\n",
              "0  redacción legal derecho empresarial análisis c...   \n",
              "1                  seo googlar ads marketing digital   \n",
              "2  excel normativo peruano derecho empresarial an...   \n",
              "3  psicología organizacional comunicación efectiv...   \n",
              "4                   figma html css adobe illustrator   \n",
              "\n",
              "                              cultura_empresa  horas_requeridas  \\\n",
              "0                   empresa joven tecnológico                20   \n",
              "1       organización orientado impacto social                20   \n",
              "2               startup dinámico colaborativo                25   \n",
              "3  empresa familiar enfoque innovación social                25   \n",
              "4       organización orientado impacto social                25   \n",
              "\n",
              "  modalidad_proyecto                           ubicacion  \n",
              "0         Presencial          Jr. Amazonas, Huaral, Lima  \n",
              "1         Presencial      Av. Principal, Jaén, Cajamarca  \n",
              "2         Presencial  Jr. San Martín, Moquegua, Moquegua  \n",
              "3         Presencial     Av. Principal, Chorrillos, Lima  \n",
              "4         Presencial  Av. Libertad, Tarapoto, San Martín  "
            ]
          },
          "execution_count": 10,
          "metadata": {},
          "output_type": "execute_result"
        }
      ],
      "source": [
        "mypes_filtradas.head()"
      ]
    },
    {
      "cell_type": "markdown",
      "metadata": {
        "id": "N96tKcSWha4-"
      },
      "source": [
        "# 2do Filtro - Creamos los vectores TF-IDF para el subset de mypes"
      ]
    },
    {
      "cell_type": "code",
      "execution_count": 15,
      "metadata": {
        "id": "skUpwLLFhjy-"
      },
      "outputs": [],
      "source": [
        "def concatenar_texto_estudiante(estudiantes):\n",
        "  return (\n",
        "      str(estudiantes[\"skill_estrella\"]) + \" \" +\n",
        "      str(estudiantes[\"motivacion_principal\"]) + \" \" +\n",
        "      str(estudiantes[\"areas_interes\"])\n",
        "  )\n",
        "\n",
        "def concatenar_texto_mypes(mypes):\n",
        "  return (\n",
        "      str(mypes[\"area_reto\"]) + \" \" +\n",
        "      str(mypes[\"descripcion_reto\"]) + \" \" +\n",
        "      str(mypes[\"habilidades_requeridas\"]) + \" \" +\n",
        "      str(mypes[\"cultura_empresa\"])\n",
        "  )\n",
        "\n",
        "def calcular_similitud_texto(estudiante, mypes_filtradas):\n",
        "    # primero concatenamos todo\n",
        "    texto_estudiante = concatenar_texto_estudiante(estudiante)\n",
        "    textos_mypes = mypes_filtradas.apply(concatenar_texto_mypes, axis=1)\n",
        "\n",
        "    # Ahora juntamos el texto estudiante con el texto de las mipes con lista\n",
        "    corpus = [texto_estudiante] + textos_mypes.tolist()\n",
        "\n",
        "    # Hacemos la vectorización TF-IDF\n",
        "    vectorizer = TfidfVectorizer()\n",
        "    tfidf_matrix = vectorizer.fit_transform(corpus)\n",
        "\n",
        "    # Ahora hacemos el cosine similarity\n",
        "    similitudes = cosine_similarity(tfidf_matrix[0:1], tfidf_matrix[1:])[0]\n",
        "\n",
        "    # Ahora usamos una columna de similitud\n",
        "    mypes_filtradas = mypes_filtradas.copy()\n",
        "    mypes_filtradas[\"similitud\"] = similitudes\n",
        "\n",
        "    # Ordenamos las mypes_filtradas de mayor a menor\n",
        "    mypes_filtradas = mypes_filtradas.sort_values(by=\"similitud\", ascending=False).reset_index(drop=True)\n",
        "\n",
        "    return mypes_filtradas"
      ]
    },
    {
      "cell_type": "code",
      "execution_count": 16,
      "metadata": {
        "colab": {
          "base_uri": "https://localhost:8080/",
          "height": 442
        },
        "id": "GyRlMDY8lrXm",
        "outputId": "fae42780-78e6-4f90-d207-8c31aa253ea6"
      },
      "outputs": [
        {
          "name": "stdout",
          "output_type": "stream",
          "text": [
            "Presencial 25\n"
          ]
        },
        {
          "data": {
            "text/html": [
              "<div>\n",
              "<style scoped>\n",
              "    .dataframe tbody tr th:only-of-type {\n",
              "        vertical-align: middle;\n",
              "    }\n",
              "\n",
              "    .dataframe tbody tr th {\n",
              "        vertical-align: top;\n",
              "    }\n",
              "\n",
              "    .dataframe thead th {\n",
              "        text-align: right;\n",
              "    }\n",
              "</style>\n",
              "<table border=\"1\" class=\"dataframe\">\n",
              "  <thead>\n",
              "    <tr style=\"text-align: right;\">\n",
              "      <th></th>\n",
              "      <th>RUC</th>\n",
              "      <th>similitud</th>\n",
              "    </tr>\n",
              "  </thead>\n",
              "  <tbody>\n",
              "    <tr>\n",
              "      <th>0</th>\n",
              "      <td>53206862288</td>\n",
              "      <td>0.391569</td>\n",
              "    </tr>\n",
              "    <tr>\n",
              "      <th>1</th>\n",
              "      <td>14894252875</td>\n",
              "      <td>0.388043</td>\n",
              "    </tr>\n",
              "    <tr>\n",
              "      <th>2</th>\n",
              "      <td>33820574064</td>\n",
              "      <td>0.381881</td>\n",
              "    </tr>\n",
              "    <tr>\n",
              "      <th>3</th>\n",
              "      <td>81227971577</td>\n",
              "      <td>0.381151</td>\n",
              "    </tr>\n",
              "    <tr>\n",
              "      <th>4</th>\n",
              "      <td>45831847091</td>\n",
              "      <td>0.370377</td>\n",
              "    </tr>\n",
              "    <tr>\n",
              "      <th>...</th>\n",
              "      <td>...</td>\n",
              "      <td>...</td>\n",
              "    </tr>\n",
              "    <tr>\n",
              "      <th>660</th>\n",
              "      <td>37965841620</td>\n",
              "      <td>0.000000</td>\n",
              "    </tr>\n",
              "    <tr>\n",
              "      <th>661</th>\n",
              "      <td>14366201374</td>\n",
              "      <td>0.000000</td>\n",
              "    </tr>\n",
              "    <tr>\n",
              "      <th>662</th>\n",
              "      <td>30804139665</td>\n",
              "      <td>0.000000</td>\n",
              "    </tr>\n",
              "    <tr>\n",
              "      <th>663</th>\n",
              "      <td>92231914025</td>\n",
              "      <td>0.000000</td>\n",
              "    </tr>\n",
              "    <tr>\n",
              "      <th>664</th>\n",
              "      <td>97260502181</td>\n",
              "      <td>0.000000</td>\n",
              "    </tr>\n",
              "  </tbody>\n",
              "</table>\n",
              "<p>665 rows × 2 columns</p>\n",
              "</div>"
            ],
            "text/plain": [
              "             RUC  similitud\n",
              "0    53206862288   0.391569\n",
              "1    14894252875   0.388043\n",
              "2    33820574064   0.381881\n",
              "3    81227971577   0.381151\n",
              "4    45831847091   0.370377\n",
              "..           ...        ...\n",
              "660  37965841620   0.000000\n",
              "661  14366201374   0.000000\n",
              "662  30804139665   0.000000\n",
              "663  92231914025   0.000000\n",
              "664  97260502181   0.000000\n",
              "\n",
              "[665 rows x 2 columns]"
            ]
          },
          "execution_count": 16,
          "metadata": {},
          "output_type": "execute_result"
        }
      ],
      "source": [
        "# 2. Filtrar MYPEs compatibles\n",
        "mypes_filtradas = filtrar_por_columnas(6, estudiantes, mypes)\n",
        "\n",
        "# 3. Calcular similitudes\n",
        "mypes_con_similitud = calcular_similitud_texto(estudiante, mypes_filtradas)\n",
        "\n",
        "# 4. Ver resultado\n",
        "mypes_con_similitud[[\"RUC\", \"similitud\"]]\n"
      ]
    },
    {
      "cell_type": "code",
      "execution_count": 17,
      "metadata": {
        "colab": {
          "base_uri": "https://localhost:8080/",
          "height": 429
        },
        "id": "TIZsOR1XmlZA",
        "outputId": "113406b1-fa24-4056-cff3-6fc78f959768"
      },
      "outputs": [
        {
          "data": {
            "text/plain": [
              "Unnamed: 0                                                                6\n",
              "nombre                                                         Carlos López\n",
              "correo                                         carlos.lópez21@correo.edu.pe\n",
              "ubicacion                                           Jr. Bolognesi, Ica, Ica\n",
              "skill_estrella            Diseño de material publicitario en Adobe Illus...\n",
              "motivacion_principal                                               Aprender\n",
              "hobbies                                              Voluntariado ambiental\n",
              "disponibilidad_semanal                                                   25\n",
              "modalidad_preferida                                              Presencial\n",
              "areas_interes             Fundamentos de Diseño Gráfico, Metodologías bá...\n",
              "carrera                                                      Diseño Gráfico\n",
              "ciclo                                                                     3\n",
              "Name: 6, dtype: object"
            ]
          },
          "execution_count": 17,
          "metadata": {},
          "output_type": "execute_result"
        }
      ],
      "source": [
        "estudiantes.iloc[6]"
      ]
    },
    {
      "cell_type": "code",
      "execution_count": 18,
      "metadata": {
        "colab": {
          "base_uri": "https://localhost:8080/",
          "height": 81
        },
        "id": "fBo8CWkJmwXh",
        "outputId": "1f4ab900-271e-4498-f143-d2f7eb1c9d13"
      },
      "outputs": [
        {
          "data": {
            "text/html": [
              "<div>\n",
              "<style scoped>\n",
              "    .dataframe tbody tr th:only-of-type {\n",
              "        vertical-align: middle;\n",
              "    }\n",
              "\n",
              "    .dataframe tbody tr th {\n",
              "        vertical-align: top;\n",
              "    }\n",
              "\n",
              "    .dataframe thead th {\n",
              "        text-align: right;\n",
              "    }\n",
              "</style>\n",
              "<table border=\"1\" class=\"dataframe\">\n",
              "  <thead>\n",
              "    <tr style=\"text-align: right;\">\n",
              "      <th></th>\n",
              "      <th>Unnamed: 0</th>\n",
              "      <th>nombre_empresa</th>\n",
              "      <th>RUC</th>\n",
              "      <th>area_reto</th>\n",
              "      <th>descripcion_reto</th>\n",
              "      <th>habilidades_requeridas</th>\n",
              "      <th>cultura_empresa</th>\n",
              "      <th>horas_requeridas</th>\n",
              "      <th>modalidad_proyecto</th>\n",
              "      <th>ubicacion</th>\n",
              "    </tr>\n",
              "  </thead>\n",
              "  <tbody>\n",
              "    <tr>\n",
              "      <th>239</th>\n",
              "      <td>1725</td>\n",
              "      <td>Estrategias Legal SRL</td>\n",
              "      <td>53206862288</td>\n",
              "      <td>Diseño</td>\n",
              "      <td>Requerimos material gráfico para redes y prese...</td>\n",
              "      <td>Adobe Illustrator, HTML/CSS</td>\n",
              "      <td>Startup dinámica y colaborativa</td>\n",
              "      <td>20</td>\n",
              "      <td>Presencial</td>\n",
              "      <td>Av. Progreso, Huánuco, Huánuco</td>\n",
              "    </tr>\n",
              "  </tbody>\n",
              "</table>\n",
              "</div>"
            ],
            "text/plain": [
              "     Unnamed: 0         nombre_empresa          RUC area_reto  \\\n",
              "239        1725  Estrategias Legal SRL  53206862288    Diseño   \n",
              "\n",
              "                                      descripcion_reto  \\\n",
              "239  Requerimos material gráfico para redes y prese...   \n",
              "\n",
              "          habilidades_requeridas                  cultura_empresa  \\\n",
              "239  Adobe Illustrator, HTML/CSS  Startup dinámica y colaborativa   \n",
              "\n",
              "     horas_requeridas modalidad_proyecto                       ubicacion  \n",
              "239                20         Presencial  Av. Progreso, Huánuco, Huánuco  "
            ]
          },
          "execution_count": 18,
          "metadata": {},
          "output_type": "execute_result"
        }
      ],
      "source": [
        "mypes_filtradas[mypes_filtradas['RUC']==53206862288]"
      ]
    },
    {
      "cell_type": "markdown",
      "metadata": {
        "id": "4Pykjrx-joWZ"
      },
      "source": []
    }
  ],
  "metadata": {
    "colab": {
      "provenance": []
    },
    "kernelspec": {
      "display_name": "venv",
      "language": "python",
      "name": "python3"
    },
    "language_info": {
      "codemirror_mode": {
        "name": "ipython",
        "version": 3
      },
      "file_extension": ".py",
      "mimetype": "text/x-python",
      "name": "python",
      "nbconvert_exporter": "python",
      "pygments_lexer": "ipython3",
      "version": "3.12.3"
    }
  },
  "nbformat": 4,
  "nbformat_minor": 0
}
