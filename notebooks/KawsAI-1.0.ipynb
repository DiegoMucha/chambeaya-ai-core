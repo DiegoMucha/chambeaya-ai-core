{
  "cells": [
    {
      "cell_type": "markdown",
      "metadata": {
        "id": "e1gHbGuAYtJN"
      },
      "source": [
        "# **KawsAI - Un Modelo de IA para Matching de ChambeaYa**\n",
        "\n",
        "En este notebook se guarda el proceso que se hizo para crear el modelo de IA KawsAI. El objetivo de KawsAI, es hacer el matching con la mejor mype a cada estudiante. Así, el estudiante y la mype pueden conectar para poder trabajar juntos.\n",
        "\n",
        "### **I. Versión:**\n",
        "1.0\n",
        "\n",
        "### **II. Objetivo:**\n",
        "El objetivo de KawsAI es lograr hacer el mejor match entre estudiantes y un puesto ofrecido por una mype. Este match se va a basar en datos que ChambeaYa va a recopilar de ambos lados a traves de su página web. El objetivo principal es lograr indicar a un estudiante cual es el puesto que ofrece una mype que mas coincide con sus conocimientos, y así aumentar mucho las probabilidades de conexión.\n",
        "\n",
        "### **III. Descripción de los Datasets**\n",
        "Para la versión 1.0 vamos a usar datasets simulados con la ayuda de la IA de ChatGPT. Se le pidió a ChatGPT simular 2 datasets en forma de tablas y en formato .csv, que son estudiantes_test.csv y mypes_test.csv. Cada una de las columnas de estos datasets contiene información que se va a solicitar a los usuarios ingresar en nuestra plataforma.\n",
        "\n",
        "##### IIIa. Descripción de columnas de estudiantes:\n",
        "- **id_estudiante:** ID único del estudiante (string)  \n",
        "- **nombre_completo:** Nombre completo del estudiante (string)  \n",
        "- **correo:** Correo electrónico del estudiante (string)  \n",
        "- **carrera:** Carrera que cursa el estudiante (string)  \n",
        "- **ciclo_actual:** Ciclo o semestre actual del estudiante (int)  \n",
        "- **ubicacion:** Ubicación de residencia del estudiante (string)  \n",
        "- **areas_interes:** Áreas profesionales de interés del estudiante (string)  \n",
        "- **habilidades_destacadas:** Habilidades más desarrolladas del estudiante (string)  \n",
        "- **motivacion_principal:** Motivación principal del estudiante (string)  \n",
        "- **descripcion_personal:** Descripción libre sobre personalidad y hobbies (string)  \n",
        "- **horas_semanales_disponibles:** Horas disponibles por semana para trabajar (int)  \n",
        "- **modalidad_preferida:** Modalidad preferida de trabajo (Presencial, Híbrido, Remoto) (string)  \n",
        "- **experiencia_relevante:** Experiencia previa relevante (string)  \n",
        "- **link_portafolio_cv:** Enlace a portafolio o CV del estudiante (string) \n",
        "\n",
        "##### IIIb. Descripción de columnas de puestos de mypes:\n",
        "- **id_puesto:** ID único del puesto ofrecido (string)  \n",
        "- **titulo_puesto:** Título del puesto ofrecido (string)  \n",
        "- **descripcion_puesto:** Descripción detallada del puesto (string)  \n",
        "- **area_del_puesto:** Área o departamento del puesto (string)  \n",
        "- **modalidad_de_trabajo:** Modalidad del trabajo (Presencial, Híbrido, Remoto) (string)  \n",
        "- **horas_semanales_requeridas:** Horas semanales requeridas (int)  \n",
        "- **fecha_inicio:** Fecha estimada de inicio del puesto (date)  \n",
        "- **duracion_del_puesto:** Duración del puesto en semanas (int)  \n",
        "- **sueldo_aproximado:** Sueldo aproximado ofrecido (int)\n",
        "\n",
        "### **IV. Índice**\n",
        "1. Carga de Librerias"
      ]
    },
    {
      "cell_type": "markdown",
      "metadata": {},
      "source": [
        "## 1. Carga de Librerias"
      ]
    },
    {
      "cell_type": "code",
      "execution_count": 1,
      "metadata": {
        "id": "TcKFP7wtOn7-"
      },
      "outputs": [],
      "source": [
        "# Todas las librerias que se deben importar\n",
        "import nltk\n",
        "from nltk.corpus import stopwords\n",
        "import re\n",
        "import pandas as pd\n",
        "import numpy as np\n",
        "import spacy\n",
        "from spacy.lang.es.stop_words import STOP_WORDS as spacy_stopwords\n",
        "import requests\n",
        "from geopy.geocoders import Nominatim\n",
        "from geopy.distance import geodesic\n",
        "from sklearn.preprocessing import OneHotEncoder, StandardScaler\n",
        "from sklearn.feature_extraction.text import TfidfVectorizer\n",
        "from sklearn.compose import ColumnTransformer\n",
        "from sklearn.pipeline import Pipeline\n",
        "from sklearn.base import BaseEstimator, TransformerMixin\n",
        "from sklearn.utils.validation import check_is_fitted\n",
        "\n",
        "geolocator = Nominatim(user_agent=\"chambeaya_app\")"
      ]
    },
    {
      "cell_type": "code",
      "execution_count": 29,
      "metadata": {},
      "outputs": [
        {
          "name": "stdout",
          "output_type": "stream",
          "text": [
            "Collecting es-core-news-sm==3.8.0\n",
            "  Downloading https://github.com/explosion/spacy-models/releases/download/es_core_news_sm-3.8.0/es_core_news_sm-3.8.0-py3-none-any.whl (12.9 MB)\n",
            "\u001b[2K     \u001b[90m━━━━━━━━━━━━━━━━━━━━━━━━━━━━━━━━━━━━━━━\u001b[0m \u001b[32m12.9/12.9 MB\u001b[0m \u001b[31m943.1 kB/s\u001b[0m eta \u001b[36m0:00:00\u001b[0m00:01\u001b[0m00:01\u001b[0m\n",
            "\u001b[?25hInstalling collected packages: es-core-news-sm\n",
            "Successfully installed es-core-news-sm-3.8.0\n",
            "\u001b[38;5;2m✔ Download and installation successful\u001b[0m\n",
            "You can now load the package via spacy.load('es_core_news_sm')\n"
          ]
        }
      ],
      "source": [
        "!python -m spacy download es_core_news_sm"
      ]
    },
    {
      "cell_type": "markdown",
      "metadata": {},
      "source": [
        "## 2. Carga de datos en DataFrames"
      ]
    },
    {
      "cell_type": "code",
      "execution_count": null,
      "metadata": {
        "id": "rofH0DQLO189"
      },
      "outputs": [],
      "source": [
        "# Ahora leemos los csv y los guardamos en dataframes de pandas\n",
        "estudiantes = pd.read_csv(\"../datasets/estudiantes_test.csv\", index_col=False)\n",
        "mypes = pd.read_csv(\"../datasets/mypes_test.csv\", index_col=False)||"
      ]
    },
    {
      "cell_type": "markdown",
      "metadata": {},
      "source": [
        "## 3. Preprocesamiento de los datos\n",
        "\n",
        "### Para los estudiantes:\n",
        "\n",
        "#### La función de preprocesamiento va a hacer diferentes pasos para diferentes columnas:\n",
        "\n",
        "**1)** Vamos a juntar todas las columnas textuales en una sola para el modelo y se le van a dar un peso a cada columna, luego se aplicará tf-idf a todas estas columnas:\n",
        "- carrera (peso de 1)\n",
        "- habilidades_destacadas (peso de 3)\n",
        "- areas_interes (peso de 3)\n",
        "- motivacion_principal (peso de 1)\n",
        "- descripcion_personal (peso de 2)\n",
        "- experiencia_relevante (peso de 5)\n",
        "\n",
        "**2)** Vamos a aplicar one-hot encoding para la columna Modalidad\n",
        "\n",
        "**3)** Para las columnas numericas vamos a usar StandardScaler, las columnas son:\n",
        "- ciclo_actual\n",
        "- horas_semanales_disponibles\n",
        "\n",
        "**4)** Se van a eliminar las siguientes columnas identificadoras que no aportan nada al modelo:\n",
        "- id_estudiante\n",
        "- nombre_completo\n",
        "- correo\n",
        "- link_portafolio_cv"
      ]
    },
    {
      "cell_type": "code",
      "execution_count": null,
      "metadata": {
        "id": "WP9wSmCDOgdi"
      },
      "outputs": [],
      "source": [
        "# Usamos nlp que nos permite realizar el preprocesado mucho mas rápido\n",
        "nlp = spacy.load(\"es_core_news_sm\")\n",
        "\n",
        "# La función de pre-procesamiento consiste en lo siguiente\n",
        "# Pa\n",
        "# 1) Eliminar simbolos gramaticales\n",
        "# 2) Tokenización\n",
        "# 3) Lematización\n",
        "# 4) Filtrar las stop words (palabras que no aportan contexto importante)\n",
        "def preprocesar(text):\n",
        "  \n",
        "  # Eliminamos todos los signos de puntuación y simbolos gramaticales. Además volvemos el texto minúscula\n",
        "  text = text.lower()\n",
        "  text = re.sub(r\"[^\\w\\s]\", \" \", text)\n",
        "  text = re.sub(r\"\\s+\", \" \", text).strip()\n",
        "\n",
        "  # Aplicamos la lematización al texto con nlp, que nos provee las palabras ya lematizadas\n",
        "  doc = nlp(text)\n",
        "\n",
        "  # Creamos un arreglo para guardar las tokens (palabras del texto separadas)\n",
        "  tokens = []\n",
        "\n",
        "  # En un bucle, filtramos todas las tokens que sean puntuacion, que sean stopwords, o que sean puntuacion, espacios, etc.\n",
        "  for token in doc:\n",
        "    if token.is_stop or token.is_punct or token.is_space or token.like_num:\n",
        "      continue\n",
        "    # Si el token pasa el filtrado, le aplicamos la lematización\n",
        "    tokens.append(token.lemma_)\n",
        "  # Por último, retornamos los tokens como una string que junta todos los datos\n",
        "  return \" \".join(tokens)"
      ]
    },
    {
      "cell_type": "markdown",
      "metadata": {
        "id": "hVCs8p6u2Fiy"
      },
      "source": [
        "## 4. Realizamos el 1er filtrado de Mypes de acuerdo a las características del estudiante "
      ]
    },
    {
      "cell_type": "code",
      "execution_count": 32,
      "metadata": {
        "id": "pVzlVwMqTDoe"
      },
      "outputs": [],
      "source": [
        "# Con esta función, vamos a filtrar las mypes por las columnas que podemos relacionar directamente con el estudiante, como horas_requeridas\n",
        "# ubicación y modalidad_preferida\n",
        "\n",
        "# Para llamar esta función, vamos a realizar este filtrado por cada estudiante que quiera ver que mypes le hacen un mejor match\n",
        "def filtrar_por_columnas(indice_estudiante, estudiantes, mypes):\n",
        "    estudiante = estudiantes.iloc[indice_estudiante]\n",
        "    modalidad = estudiante[\"modalidad_preferida\"]\n",
        "    horas_disponibles = estudiante[\"disponibilidad_semanal\"]\n",
        "\n",
        "    print(f\"{modalidad} {horas_disponibles}\")\n",
        "    # Filtrar por modalidad y horas\n",
        "    mypes_aux = mypes[\n",
        "        (mypes[\"modalidad_proyecto\"] == modalidad) &\n",
        "        (mypes[\"horas_requeridas\"] <= horas_disponibles)\n",
        "    ]\n",
        "    return mypes_aux.reset_index(drop=True)\n",
        "\n",
        "def filtrar_por_ubicacion(indice_estudiante, estudiantes, mypes, radio_km=10):\n",
        "    estudiante = estudiantes.iloc[indice_estudiante]\n",
        "    ubicacion_est = estudiante['ubicacion']\n",
        "    \n",
        "    # Obtener coordenadas del estudiante\n",
        "    location_est = geolocator.geocode(ubicacion_est)\n",
        "    if location_est is None:\n",
        "        print(\"No se pudo encontrar la ubicación del estudiante.\")\n",
        "        return None\n",
        "\n",
        "    coords_estudiante = (location_est.latitude, location_est.longitude)\n",
        "\n",
        "    # Lista para guardar índices de mypes cercanas\n",
        "    indices_cercanos = []\n",
        "\n",
        "    for i, row in mypes.iterrows():\n",
        "        ubicacion_mype = row['ubicacion']\n",
        "        location_mype = geolocator.geocode(ubicacion_mype)\n",
        "\n",
        "        if location_mype is None:\n",
        "            continue  # Saltar si no encuentra la ubicación\n",
        "\n",
        "        coords_mype = (location_mype.latitude, location_mype.longitude)\n",
        "\n",
        "        # Calcular distancia\n",
        "        distancia = geodesic(coords_estudiante, coords_mype).km\n",
        "\n",
        "        if distancia <= radio_km:\n",
        "            indices_cercanos.append(i)\n",
        "\n",
        "    # Devolver solo las mypes cercanas\n",
        "    return mypes.loc[indices_cercanos]"
      ]
    },
    {
      "cell_type": "code",
      "execution_count": 33,
      "metadata": {
        "colab": {
          "base_uri": "https://localhost:8080/"
        },
        "id": "jhz5Q-fbhnf3",
        "outputId": "2543e6a4-68fa-4521-d64e-65ab1bee3c36"
      },
      "outputs": [
        {
          "name": "stdout",
          "output_type": "stream",
          "text": [
            "Presencial 25\n"
          ]
        }
      ],
      "source": [
        "mypes_filtradas = filtrar_por_columnas(6, estudiantes, mypes)"
      ]
    },
    {
      "cell_type": "code",
      "execution_count": 28,
      "metadata": {},
      "outputs": [
        {
          "ename": "KeyboardInterrupt",
          "evalue": "",
          "output_type": "error",
          "traceback": [
            "\u001b[31m---------------------------------------------------------------------------\u001b[39m",
            "\u001b[31mKeyboardInterrupt\u001b[39m                         Traceback (most recent call last)",
            "\u001b[36mCell\u001b[39m\u001b[36m \u001b[39m\u001b[32mIn[28]\u001b[39m\u001b[32m, line 1\u001b[39m\n\u001b[32m----> \u001b[39m\u001b[32m1\u001b[39m mypes_filtradas = \u001b[43mfiltrar_por_ubicacion\u001b[49m\u001b[43m(\u001b[49m\u001b[32;43m9\u001b[39;49m\u001b[43m,\u001b[49m\u001b[43mestudiantes\u001b[49m\u001b[43m,\u001b[49m\u001b[43m \u001b[49m\u001b[43mmypes\u001b[49m\u001b[43m)\u001b[49m\n",
            "\u001b[36mCell\u001b[39m\u001b[36m \u001b[39m\u001b[32mIn[16]\u001b[39m\u001b[32m, line 35\u001b[39m, in \u001b[36mfiltrar_por_ubicacion\u001b[39m\u001b[34m(indice_estudiante, estudiantes, mypes, radio_km)\u001b[39m\n\u001b[32m     33\u001b[39m \u001b[38;5;28;01mfor\u001b[39;00m i, row \u001b[38;5;129;01min\u001b[39;00m mypes.iterrows():\n\u001b[32m     34\u001b[39m     ubicacion_mype = row[\u001b[33m'\u001b[39m\u001b[33mubicacion\u001b[39m\u001b[33m'\u001b[39m]\n\u001b[32m---> \u001b[39m\u001b[32m35\u001b[39m     location_mype = \u001b[43mgeolocator\u001b[49m\u001b[43m.\u001b[49m\u001b[43mgeocode\u001b[49m\u001b[43m(\u001b[49m\u001b[43mubicacion_mype\u001b[49m\u001b[43m)\u001b[49m\n\u001b[32m     37\u001b[39m     \u001b[38;5;28;01mif\u001b[39;00m location_mype \u001b[38;5;129;01mis\u001b[39;00m \u001b[38;5;28;01mNone\u001b[39;00m:\n\u001b[32m     38\u001b[39m         \u001b[38;5;28;01mcontinue\u001b[39;00m  \u001b[38;5;66;03m# Saltar si no encuentra la ubicación\u001b[39;00m\n",
            "\u001b[36mFile \u001b[39m\u001b[32m~/Me/programming/projects/chambeaya-ai-core/venv/lib/python3.12/site-packages/geopy/geocoders/nominatim.py:297\u001b[39m, in \u001b[36mNominatim.geocode\u001b[39m\u001b[34m(self, query, exactly_one, timeout, limit, addressdetails, language, geometry, extratags, country_codes, viewbox, bounded, featuretype, namedetails)\u001b[39m\n\u001b[32m    295\u001b[39m logger.debug(\u001b[33m\"\u001b[39m\u001b[38;5;132;01m%s\u001b[39;00m\u001b[33m.geocode: \u001b[39m\u001b[38;5;132;01m%s\u001b[39;00m\u001b[33m\"\u001b[39m, \u001b[38;5;28mself\u001b[39m.\u001b[34m__class__\u001b[39m.\u001b[34m__name__\u001b[39m, url)\n\u001b[32m    296\u001b[39m callback = partial(\u001b[38;5;28mself\u001b[39m._parse_json, exactly_one=exactly_one)\n\u001b[32m--> \u001b[39m\u001b[32m297\u001b[39m \u001b[38;5;28;01mreturn\u001b[39;00m \u001b[38;5;28;43mself\u001b[39;49m\u001b[43m.\u001b[49m\u001b[43m_call_geocoder\u001b[49m\u001b[43m(\u001b[49m\u001b[43murl\u001b[49m\u001b[43m,\u001b[49m\u001b[43m \u001b[49m\u001b[43mcallback\u001b[49m\u001b[43m,\u001b[49m\u001b[43m \u001b[49m\u001b[43mtimeout\u001b[49m\u001b[43m=\u001b[49m\u001b[43mtimeout\u001b[49m\u001b[43m)\u001b[49m\n",
            "\u001b[36mFile \u001b[39m\u001b[32m~/Me/programming/projects/chambeaya-ai-core/venv/lib/python3.12/site-packages/geopy/geocoders/base.py:368\u001b[39m, in \u001b[36mGeocoder._call_geocoder\u001b[39m\u001b[34m(self, url, callback, timeout, is_json, headers)\u001b[39m\n\u001b[32m    366\u001b[39m \u001b[38;5;28;01mtry\u001b[39;00m:\n\u001b[32m    367\u001b[39m     \u001b[38;5;28;01mif\u001b[39;00m is_json:\n\u001b[32m--> \u001b[39m\u001b[32m368\u001b[39m         result = \u001b[38;5;28;43mself\u001b[39;49m\u001b[43m.\u001b[49m\u001b[43madapter\u001b[49m\u001b[43m.\u001b[49m\u001b[43mget_json\u001b[49m\u001b[43m(\u001b[49m\u001b[43murl\u001b[49m\u001b[43m,\u001b[49m\u001b[43m \u001b[49m\u001b[43mtimeout\u001b[49m\u001b[43m=\u001b[49m\u001b[43mtimeout\u001b[49m\u001b[43m,\u001b[49m\u001b[43m \u001b[49m\u001b[43mheaders\u001b[49m\u001b[43m=\u001b[49m\u001b[43mreq_headers\u001b[49m\u001b[43m)\u001b[49m\n\u001b[32m    369\u001b[39m     \u001b[38;5;28;01melse\u001b[39;00m:\n\u001b[32m    370\u001b[39m         result = \u001b[38;5;28mself\u001b[39m.adapter.get_text(url, timeout=timeout, headers=req_headers)\n",
            "\u001b[36mFile \u001b[39m\u001b[32m~/Me/programming/projects/chambeaya-ai-core/venv/lib/python3.12/site-packages/geopy/adapters.py:472\u001b[39m, in \u001b[36mRequestsAdapter.get_json\u001b[39m\u001b[34m(self, url, timeout, headers)\u001b[39m\n\u001b[32m    471\u001b[39m \u001b[38;5;28;01mdef\u001b[39;00m\u001b[38;5;250m \u001b[39m\u001b[34mget_json\u001b[39m(\u001b[38;5;28mself\u001b[39m, url, *, timeout, headers):\n\u001b[32m--> \u001b[39m\u001b[32m472\u001b[39m     resp = \u001b[38;5;28;43mself\u001b[39;49m\u001b[43m.\u001b[49m\u001b[43m_request\u001b[49m\u001b[43m(\u001b[49m\u001b[43murl\u001b[49m\u001b[43m,\u001b[49m\u001b[43m \u001b[49m\u001b[43mtimeout\u001b[49m\u001b[43m=\u001b[49m\u001b[43mtimeout\u001b[49m\u001b[43m,\u001b[49m\u001b[43m \u001b[49m\u001b[43mheaders\u001b[49m\u001b[43m=\u001b[49m\u001b[43mheaders\u001b[49m\u001b[43m)\u001b[49m\n\u001b[32m    473\u001b[39m     \u001b[38;5;28;01mtry\u001b[39;00m:\n\u001b[32m    474\u001b[39m         \u001b[38;5;28;01mreturn\u001b[39;00m resp.json()\n",
            "\u001b[36mFile \u001b[39m\u001b[32m~/Me/programming/projects/chambeaya-ai-core/venv/lib/python3.12/site-packages/geopy/adapters.py:482\u001b[39m, in \u001b[36mRequestsAdapter._request\u001b[39m\u001b[34m(self, url, timeout, headers)\u001b[39m\n\u001b[32m    480\u001b[39m \u001b[38;5;28;01mdef\u001b[39;00m\u001b[38;5;250m \u001b[39m\u001b[34m_request\u001b[39m(\u001b[38;5;28mself\u001b[39m, url, *, timeout, headers):\n\u001b[32m    481\u001b[39m     \u001b[38;5;28;01mtry\u001b[39;00m:\n\u001b[32m--> \u001b[39m\u001b[32m482\u001b[39m         resp = \u001b[38;5;28;43mself\u001b[39;49m\u001b[43m.\u001b[49m\u001b[43msession\u001b[49m\u001b[43m.\u001b[49m\u001b[43mget\u001b[49m\u001b[43m(\u001b[49m\u001b[43murl\u001b[49m\u001b[43m,\u001b[49m\u001b[43m \u001b[49m\u001b[43mtimeout\u001b[49m\u001b[43m=\u001b[49m\u001b[43mtimeout\u001b[49m\u001b[43m,\u001b[49m\u001b[43m \u001b[49m\u001b[43mheaders\u001b[49m\u001b[43m=\u001b[49m\u001b[43mheaders\u001b[49m\u001b[43m)\u001b[49m\n\u001b[32m    483\u001b[39m     \u001b[38;5;28;01mexcept\u001b[39;00m \u001b[38;5;167;01mException\u001b[39;00m \u001b[38;5;28;01mas\u001b[39;00m error:\n\u001b[32m    484\u001b[39m         message = \u001b[38;5;28mstr\u001b[39m(error)\n",
            "\u001b[36mFile \u001b[39m\u001b[32m~/Me/programming/projects/chambeaya-ai-core/venv/lib/python3.12/site-packages/requests/sessions.py:602\u001b[39m, in \u001b[36mSession.get\u001b[39m\u001b[34m(self, url, **kwargs)\u001b[39m\n\u001b[32m    594\u001b[39m \u001b[38;5;250m\u001b[39m\u001b[33mr\u001b[39m\u001b[33;03m\"\"\"Sends a GET request. Returns :class:`Response` object.\u001b[39;00m\n\u001b[32m    595\u001b[39m \n\u001b[32m    596\u001b[39m \u001b[33;03m:param url: URL for the new :class:`Request` object.\u001b[39;00m\n\u001b[32m    597\u001b[39m \u001b[33;03m:param \\*\\*kwargs: Optional arguments that ``request`` takes.\u001b[39;00m\n\u001b[32m    598\u001b[39m \u001b[33;03m:rtype: requests.Response\u001b[39;00m\n\u001b[32m    599\u001b[39m \u001b[33;03m\"\"\"\u001b[39;00m\n\u001b[32m    601\u001b[39m kwargs.setdefault(\u001b[33m\"\u001b[39m\u001b[33mallow_redirects\u001b[39m\u001b[33m\"\u001b[39m, \u001b[38;5;28;01mTrue\u001b[39;00m)\n\u001b[32m--> \u001b[39m\u001b[32m602\u001b[39m \u001b[38;5;28;01mreturn\u001b[39;00m \u001b[38;5;28;43mself\u001b[39;49m\u001b[43m.\u001b[49m\u001b[43mrequest\u001b[49m\u001b[43m(\u001b[49m\u001b[33;43m\"\u001b[39;49m\u001b[33;43mGET\u001b[39;49m\u001b[33;43m\"\u001b[39;49m\u001b[43m,\u001b[49m\u001b[43m \u001b[49m\u001b[43murl\u001b[49m\u001b[43m,\u001b[49m\u001b[43m \u001b[49m\u001b[43m*\u001b[49m\u001b[43m*\u001b[49m\u001b[43mkwargs\u001b[49m\u001b[43m)\u001b[49m\n",
            "\u001b[36mFile \u001b[39m\u001b[32m~/Me/programming/projects/chambeaya-ai-core/venv/lib/python3.12/site-packages/requests/sessions.py:589\u001b[39m, in \u001b[36mSession.request\u001b[39m\u001b[34m(self, method, url, params, data, headers, cookies, files, auth, timeout, allow_redirects, proxies, hooks, stream, verify, cert, json)\u001b[39m\n\u001b[32m    584\u001b[39m send_kwargs = {\n\u001b[32m    585\u001b[39m     \u001b[33m\"\u001b[39m\u001b[33mtimeout\u001b[39m\u001b[33m\"\u001b[39m: timeout,\n\u001b[32m    586\u001b[39m     \u001b[33m\"\u001b[39m\u001b[33mallow_redirects\u001b[39m\u001b[33m\"\u001b[39m: allow_redirects,\n\u001b[32m    587\u001b[39m }\n\u001b[32m    588\u001b[39m send_kwargs.update(settings)\n\u001b[32m--> \u001b[39m\u001b[32m589\u001b[39m resp = \u001b[38;5;28;43mself\u001b[39;49m\u001b[43m.\u001b[49m\u001b[43msend\u001b[49m\u001b[43m(\u001b[49m\u001b[43mprep\u001b[49m\u001b[43m,\u001b[49m\u001b[43m \u001b[49m\u001b[43m*\u001b[49m\u001b[43m*\u001b[49m\u001b[43msend_kwargs\u001b[49m\u001b[43m)\u001b[49m\n\u001b[32m    591\u001b[39m \u001b[38;5;28;01mreturn\u001b[39;00m resp\n",
            "\u001b[36mFile \u001b[39m\u001b[32m~/Me/programming/projects/chambeaya-ai-core/venv/lib/python3.12/site-packages/requests/sessions.py:703\u001b[39m, in \u001b[36mSession.send\u001b[39m\u001b[34m(self, request, **kwargs)\u001b[39m\n\u001b[32m    700\u001b[39m start = preferred_clock()\n\u001b[32m    702\u001b[39m \u001b[38;5;66;03m# Send the request\u001b[39;00m\n\u001b[32m--> \u001b[39m\u001b[32m703\u001b[39m r = \u001b[43madapter\u001b[49m\u001b[43m.\u001b[49m\u001b[43msend\u001b[49m\u001b[43m(\u001b[49m\u001b[43mrequest\u001b[49m\u001b[43m,\u001b[49m\u001b[43m \u001b[49m\u001b[43m*\u001b[49m\u001b[43m*\u001b[49m\u001b[43mkwargs\u001b[49m\u001b[43m)\u001b[49m\n\u001b[32m    705\u001b[39m \u001b[38;5;66;03m# Total elapsed time of the request (approximately)\u001b[39;00m\n\u001b[32m    706\u001b[39m elapsed = preferred_clock() - start\n",
            "\u001b[36mFile \u001b[39m\u001b[32m~/Me/programming/projects/chambeaya-ai-core/venv/lib/python3.12/site-packages/requests/adapters.py:667\u001b[39m, in \u001b[36mHTTPAdapter.send\u001b[39m\u001b[34m(self, request, stream, timeout, verify, cert, proxies)\u001b[39m\n\u001b[32m    664\u001b[39m     timeout = TimeoutSauce(connect=timeout, read=timeout)\n\u001b[32m    666\u001b[39m \u001b[38;5;28;01mtry\u001b[39;00m:\n\u001b[32m--> \u001b[39m\u001b[32m667\u001b[39m     resp = \u001b[43mconn\u001b[49m\u001b[43m.\u001b[49m\u001b[43murlopen\u001b[49m\u001b[43m(\u001b[49m\n\u001b[32m    668\u001b[39m \u001b[43m        \u001b[49m\u001b[43mmethod\u001b[49m\u001b[43m=\u001b[49m\u001b[43mrequest\u001b[49m\u001b[43m.\u001b[49m\u001b[43mmethod\u001b[49m\u001b[43m,\u001b[49m\n\u001b[32m    669\u001b[39m \u001b[43m        \u001b[49m\u001b[43murl\u001b[49m\u001b[43m=\u001b[49m\u001b[43murl\u001b[49m\u001b[43m,\u001b[49m\n\u001b[32m    670\u001b[39m \u001b[43m        \u001b[49m\u001b[43mbody\u001b[49m\u001b[43m=\u001b[49m\u001b[43mrequest\u001b[49m\u001b[43m.\u001b[49m\u001b[43mbody\u001b[49m\u001b[43m,\u001b[49m\n\u001b[32m    671\u001b[39m \u001b[43m        \u001b[49m\u001b[43mheaders\u001b[49m\u001b[43m=\u001b[49m\u001b[43mrequest\u001b[49m\u001b[43m.\u001b[49m\u001b[43mheaders\u001b[49m\u001b[43m,\u001b[49m\n\u001b[32m    672\u001b[39m \u001b[43m        \u001b[49m\u001b[43mredirect\u001b[49m\u001b[43m=\u001b[49m\u001b[38;5;28;43;01mFalse\u001b[39;49;00m\u001b[43m,\u001b[49m\n\u001b[32m    673\u001b[39m \u001b[43m        \u001b[49m\u001b[43massert_same_host\u001b[49m\u001b[43m=\u001b[49m\u001b[38;5;28;43;01mFalse\u001b[39;49;00m\u001b[43m,\u001b[49m\n\u001b[32m    674\u001b[39m \u001b[43m        \u001b[49m\u001b[43mpreload_content\u001b[49m\u001b[43m=\u001b[49m\u001b[38;5;28;43;01mFalse\u001b[39;49;00m\u001b[43m,\u001b[49m\n\u001b[32m    675\u001b[39m \u001b[43m        \u001b[49m\u001b[43mdecode_content\u001b[49m\u001b[43m=\u001b[49m\u001b[38;5;28;43;01mFalse\u001b[39;49;00m\u001b[43m,\u001b[49m\n\u001b[32m    676\u001b[39m \u001b[43m        \u001b[49m\u001b[43mretries\u001b[49m\u001b[43m=\u001b[49m\u001b[38;5;28;43mself\u001b[39;49m\u001b[43m.\u001b[49m\u001b[43mmax_retries\u001b[49m\u001b[43m,\u001b[49m\n\u001b[32m    677\u001b[39m \u001b[43m        \u001b[49m\u001b[43mtimeout\u001b[49m\u001b[43m=\u001b[49m\u001b[43mtimeout\u001b[49m\u001b[43m,\u001b[49m\n\u001b[32m    678\u001b[39m \u001b[43m        \u001b[49m\u001b[43mchunked\u001b[49m\u001b[43m=\u001b[49m\u001b[43mchunked\u001b[49m\u001b[43m,\u001b[49m\n\u001b[32m    679\u001b[39m \u001b[43m    \u001b[49m\u001b[43m)\u001b[49m\n\u001b[32m    681\u001b[39m \u001b[38;5;28;01mexcept\u001b[39;00m (ProtocolError, \u001b[38;5;167;01mOSError\u001b[39;00m) \u001b[38;5;28;01mas\u001b[39;00m err:\n\u001b[32m    682\u001b[39m     \u001b[38;5;28;01mraise\u001b[39;00m \u001b[38;5;167;01mConnectionError\u001b[39;00m(err, request=request)\n",
            "\u001b[36mFile \u001b[39m\u001b[32m~/Me/programming/projects/chambeaya-ai-core/venv/lib/python3.12/site-packages/urllib3/connectionpool.py:787\u001b[39m, in \u001b[36mHTTPConnectionPool.urlopen\u001b[39m\u001b[34m(self, method, url, body, headers, retries, redirect, assert_same_host, timeout, pool_timeout, release_conn, chunked, body_pos, preload_content, decode_content, **response_kw)\u001b[39m\n\u001b[32m    784\u001b[39m response_conn = conn \u001b[38;5;28;01mif\u001b[39;00m \u001b[38;5;129;01mnot\u001b[39;00m release_conn \u001b[38;5;28;01melse\u001b[39;00m \u001b[38;5;28;01mNone\u001b[39;00m\n\u001b[32m    786\u001b[39m \u001b[38;5;66;03m# Make the request on the HTTPConnection object\u001b[39;00m\n\u001b[32m--> \u001b[39m\u001b[32m787\u001b[39m response = \u001b[38;5;28;43mself\u001b[39;49m\u001b[43m.\u001b[49m\u001b[43m_make_request\u001b[49m\u001b[43m(\u001b[49m\n\u001b[32m    788\u001b[39m \u001b[43m    \u001b[49m\u001b[43mconn\u001b[49m\u001b[43m,\u001b[49m\n\u001b[32m    789\u001b[39m \u001b[43m    \u001b[49m\u001b[43mmethod\u001b[49m\u001b[43m,\u001b[49m\n\u001b[32m    790\u001b[39m \u001b[43m    \u001b[49m\u001b[43murl\u001b[49m\u001b[43m,\u001b[49m\n\u001b[32m    791\u001b[39m \u001b[43m    \u001b[49m\u001b[43mtimeout\u001b[49m\u001b[43m=\u001b[49m\u001b[43mtimeout_obj\u001b[49m\u001b[43m,\u001b[49m\n\u001b[32m    792\u001b[39m \u001b[43m    \u001b[49m\u001b[43mbody\u001b[49m\u001b[43m=\u001b[49m\u001b[43mbody\u001b[49m\u001b[43m,\u001b[49m\n\u001b[32m    793\u001b[39m \u001b[43m    \u001b[49m\u001b[43mheaders\u001b[49m\u001b[43m=\u001b[49m\u001b[43mheaders\u001b[49m\u001b[43m,\u001b[49m\n\u001b[32m    794\u001b[39m \u001b[43m    \u001b[49m\u001b[43mchunked\u001b[49m\u001b[43m=\u001b[49m\u001b[43mchunked\u001b[49m\u001b[43m,\u001b[49m\n\u001b[32m    795\u001b[39m \u001b[43m    \u001b[49m\u001b[43mretries\u001b[49m\u001b[43m=\u001b[49m\u001b[43mretries\u001b[49m\u001b[43m,\u001b[49m\n\u001b[32m    796\u001b[39m \u001b[43m    \u001b[49m\u001b[43mresponse_conn\u001b[49m\u001b[43m=\u001b[49m\u001b[43mresponse_conn\u001b[49m\u001b[43m,\u001b[49m\n\u001b[32m    797\u001b[39m \u001b[43m    \u001b[49m\u001b[43mpreload_content\u001b[49m\u001b[43m=\u001b[49m\u001b[43mpreload_content\u001b[49m\u001b[43m,\u001b[49m\n\u001b[32m    798\u001b[39m \u001b[43m    \u001b[49m\u001b[43mdecode_content\u001b[49m\u001b[43m=\u001b[49m\u001b[43mdecode_content\u001b[49m\u001b[43m,\u001b[49m\n\u001b[32m    799\u001b[39m \u001b[43m    \u001b[49m\u001b[43m*\u001b[49m\u001b[43m*\u001b[49m\u001b[43mresponse_kw\u001b[49m\u001b[43m,\u001b[49m\n\u001b[32m    800\u001b[39m \u001b[43m\u001b[49m\u001b[43m)\u001b[49m\n\u001b[32m    802\u001b[39m \u001b[38;5;66;03m# Everything went great!\u001b[39;00m\n\u001b[32m    803\u001b[39m clean_exit = \u001b[38;5;28;01mTrue\u001b[39;00m\n",
            "\u001b[36mFile \u001b[39m\u001b[32m~/Me/programming/projects/chambeaya-ai-core/venv/lib/python3.12/site-packages/urllib3/connectionpool.py:534\u001b[39m, in \u001b[36mHTTPConnectionPool._make_request\u001b[39m\u001b[34m(self, conn, method, url, body, headers, retries, timeout, chunked, response_conn, preload_content, decode_content, enforce_content_length)\u001b[39m\n\u001b[32m    532\u001b[39m \u001b[38;5;66;03m# Receive the response from the server\u001b[39;00m\n\u001b[32m    533\u001b[39m \u001b[38;5;28;01mtry\u001b[39;00m:\n\u001b[32m--> \u001b[39m\u001b[32m534\u001b[39m     response = \u001b[43mconn\u001b[49m\u001b[43m.\u001b[49m\u001b[43mgetresponse\u001b[49m\u001b[43m(\u001b[49m\u001b[43m)\u001b[49m\n\u001b[32m    535\u001b[39m \u001b[38;5;28;01mexcept\u001b[39;00m (BaseSSLError, \u001b[38;5;167;01mOSError\u001b[39;00m) \u001b[38;5;28;01mas\u001b[39;00m e:\n\u001b[32m    536\u001b[39m     \u001b[38;5;28mself\u001b[39m._raise_timeout(err=e, url=url, timeout_value=read_timeout)\n",
            "\u001b[36mFile \u001b[39m\u001b[32m~/Me/programming/projects/chambeaya-ai-core/venv/lib/python3.12/site-packages/urllib3/connection.py:516\u001b[39m, in \u001b[36mHTTPConnection.getresponse\u001b[39m\u001b[34m(self)\u001b[39m\n\u001b[32m    513\u001b[39m _shutdown = \u001b[38;5;28mgetattr\u001b[39m(\u001b[38;5;28mself\u001b[39m.sock, \u001b[33m\"\u001b[39m\u001b[33mshutdown\u001b[39m\u001b[33m\"\u001b[39m, \u001b[38;5;28;01mNone\u001b[39;00m)\n\u001b[32m    515\u001b[39m \u001b[38;5;66;03m# Get the response from http.client.HTTPConnection\u001b[39;00m\n\u001b[32m--> \u001b[39m\u001b[32m516\u001b[39m httplib_response = \u001b[38;5;28;43msuper\u001b[39;49m\u001b[43m(\u001b[49m\u001b[43m)\u001b[49m\u001b[43m.\u001b[49m\u001b[43mgetresponse\u001b[49m\u001b[43m(\u001b[49m\u001b[43m)\u001b[49m\n\u001b[32m    518\u001b[39m \u001b[38;5;28;01mtry\u001b[39;00m:\n\u001b[32m    519\u001b[39m     assert_header_parsing(httplib_response.msg)\n",
            "\u001b[36mFile \u001b[39m\u001b[32m/usr/lib/python3.12/http/client.py:1428\u001b[39m, in \u001b[36mHTTPConnection.getresponse\u001b[39m\u001b[34m(self)\u001b[39m\n\u001b[32m   1426\u001b[39m \u001b[38;5;28;01mtry\u001b[39;00m:\n\u001b[32m   1427\u001b[39m     \u001b[38;5;28;01mtry\u001b[39;00m:\n\u001b[32m-> \u001b[39m\u001b[32m1428\u001b[39m         \u001b[43mresponse\u001b[49m\u001b[43m.\u001b[49m\u001b[43mbegin\u001b[49m\u001b[43m(\u001b[49m\u001b[43m)\u001b[49m\n\u001b[32m   1429\u001b[39m     \u001b[38;5;28;01mexcept\u001b[39;00m \u001b[38;5;167;01mConnectionError\u001b[39;00m:\n\u001b[32m   1430\u001b[39m         \u001b[38;5;28mself\u001b[39m.close()\n",
            "\u001b[36mFile \u001b[39m\u001b[32m/usr/lib/python3.12/http/client.py:331\u001b[39m, in \u001b[36mHTTPResponse.begin\u001b[39m\u001b[34m(self)\u001b[39m\n\u001b[32m    329\u001b[39m \u001b[38;5;66;03m# read until we get a non-100 response\u001b[39;00m\n\u001b[32m    330\u001b[39m \u001b[38;5;28;01mwhile\u001b[39;00m \u001b[38;5;28;01mTrue\u001b[39;00m:\n\u001b[32m--> \u001b[39m\u001b[32m331\u001b[39m     version, status, reason = \u001b[38;5;28;43mself\u001b[39;49m\u001b[43m.\u001b[49m\u001b[43m_read_status\u001b[49m\u001b[43m(\u001b[49m\u001b[43m)\u001b[49m\n\u001b[32m    332\u001b[39m     \u001b[38;5;28;01mif\u001b[39;00m status != CONTINUE:\n\u001b[32m    333\u001b[39m         \u001b[38;5;28;01mbreak\u001b[39;00m\n",
            "\u001b[36mFile \u001b[39m\u001b[32m/usr/lib/python3.12/http/client.py:292\u001b[39m, in \u001b[36mHTTPResponse._read_status\u001b[39m\u001b[34m(self)\u001b[39m\n\u001b[32m    291\u001b[39m \u001b[38;5;28;01mdef\u001b[39;00m\u001b[38;5;250m \u001b[39m\u001b[34m_read_status\u001b[39m(\u001b[38;5;28mself\u001b[39m):\n\u001b[32m--> \u001b[39m\u001b[32m292\u001b[39m     line = \u001b[38;5;28mstr\u001b[39m(\u001b[38;5;28;43mself\u001b[39;49m\u001b[43m.\u001b[49m\u001b[43mfp\u001b[49m\u001b[43m.\u001b[49m\u001b[43mreadline\u001b[49m\u001b[43m(\u001b[49m\u001b[43m_MAXLINE\u001b[49m\u001b[43m \u001b[49m\u001b[43m+\u001b[49m\u001b[43m \u001b[49m\u001b[32;43m1\u001b[39;49m\u001b[43m)\u001b[49m, \u001b[33m\"\u001b[39m\u001b[33miso-8859-1\u001b[39m\u001b[33m\"\u001b[39m)\n\u001b[32m    293\u001b[39m     \u001b[38;5;28;01mif\u001b[39;00m \u001b[38;5;28mlen\u001b[39m(line) > _MAXLINE:\n\u001b[32m    294\u001b[39m         \u001b[38;5;28;01mraise\u001b[39;00m LineTooLong(\u001b[33m\"\u001b[39m\u001b[33mstatus line\u001b[39m\u001b[33m\"\u001b[39m)\n",
            "\u001b[36mFile \u001b[39m\u001b[32m/usr/lib/python3.12/socket.py:707\u001b[39m, in \u001b[36mSocketIO.readinto\u001b[39m\u001b[34m(self, b)\u001b[39m\n\u001b[32m    705\u001b[39m \u001b[38;5;28;01mwhile\u001b[39;00m \u001b[38;5;28;01mTrue\u001b[39;00m:\n\u001b[32m    706\u001b[39m     \u001b[38;5;28;01mtry\u001b[39;00m:\n\u001b[32m--> \u001b[39m\u001b[32m707\u001b[39m         \u001b[38;5;28;01mreturn\u001b[39;00m \u001b[38;5;28;43mself\u001b[39;49m\u001b[43m.\u001b[49m\u001b[43m_sock\u001b[49m\u001b[43m.\u001b[49m\u001b[43mrecv_into\u001b[49m\u001b[43m(\u001b[49m\u001b[43mb\u001b[49m\u001b[43m)\u001b[49m\n\u001b[32m    708\u001b[39m     \u001b[38;5;28;01mexcept\u001b[39;00m timeout:\n\u001b[32m    709\u001b[39m         \u001b[38;5;28mself\u001b[39m._timeout_occurred = \u001b[38;5;28;01mTrue\u001b[39;00m\n",
            "\u001b[36mFile \u001b[39m\u001b[32m/usr/lib/python3.12/ssl.py:1252\u001b[39m, in \u001b[36mSSLSocket.recv_into\u001b[39m\u001b[34m(self, buffer, nbytes, flags)\u001b[39m\n\u001b[32m   1248\u001b[39m     \u001b[38;5;28;01mif\u001b[39;00m flags != \u001b[32m0\u001b[39m:\n\u001b[32m   1249\u001b[39m         \u001b[38;5;28;01mraise\u001b[39;00m \u001b[38;5;167;01mValueError\u001b[39;00m(\n\u001b[32m   1250\u001b[39m           \u001b[33m\"\u001b[39m\u001b[33mnon-zero flags not allowed in calls to recv_into() on \u001b[39m\u001b[38;5;132;01m%s\u001b[39;00m\u001b[33m\"\u001b[39m %\n\u001b[32m   1251\u001b[39m           \u001b[38;5;28mself\u001b[39m.\u001b[34m__class__\u001b[39m)\n\u001b[32m-> \u001b[39m\u001b[32m1252\u001b[39m     \u001b[38;5;28;01mreturn\u001b[39;00m \u001b[38;5;28;43mself\u001b[39;49m\u001b[43m.\u001b[49m\u001b[43mread\u001b[49m\u001b[43m(\u001b[49m\u001b[43mnbytes\u001b[49m\u001b[43m,\u001b[49m\u001b[43m \u001b[49m\u001b[43mbuffer\u001b[49m\u001b[43m)\u001b[49m\n\u001b[32m   1253\u001b[39m \u001b[38;5;28;01melse\u001b[39;00m:\n\u001b[32m   1254\u001b[39m     \u001b[38;5;28;01mreturn\u001b[39;00m \u001b[38;5;28msuper\u001b[39m().recv_into(buffer, nbytes, flags)\n",
            "\u001b[36mFile \u001b[39m\u001b[32m/usr/lib/python3.12/ssl.py:1104\u001b[39m, in \u001b[36mSSLSocket.read\u001b[39m\u001b[34m(self, len, buffer)\u001b[39m\n\u001b[32m   1102\u001b[39m \u001b[38;5;28;01mtry\u001b[39;00m:\n\u001b[32m   1103\u001b[39m     \u001b[38;5;28;01mif\u001b[39;00m buffer \u001b[38;5;129;01mis\u001b[39;00m \u001b[38;5;129;01mnot\u001b[39;00m \u001b[38;5;28;01mNone\u001b[39;00m:\n\u001b[32m-> \u001b[39m\u001b[32m1104\u001b[39m         \u001b[38;5;28;01mreturn\u001b[39;00m \u001b[38;5;28;43mself\u001b[39;49m\u001b[43m.\u001b[49m\u001b[43m_sslobj\u001b[49m\u001b[43m.\u001b[49m\u001b[43mread\u001b[49m\u001b[43m(\u001b[49m\u001b[38;5;28;43mlen\u001b[39;49m\u001b[43m,\u001b[49m\u001b[43m \u001b[49m\u001b[43mbuffer\u001b[49m\u001b[43m)\u001b[49m\n\u001b[32m   1105\u001b[39m     \u001b[38;5;28;01melse\u001b[39;00m:\n\u001b[32m   1106\u001b[39m         \u001b[38;5;28;01mreturn\u001b[39;00m \u001b[38;5;28mself\u001b[39m._sslobj.read(\u001b[38;5;28mlen\u001b[39m)\n",
            "\u001b[31mKeyboardInterrupt\u001b[39m: "
          ]
        }
      ],
      "source": [
        "mypes_filtradas = filtrar_por_ubicacion(9,estudiantes, mypes)"
      ]
    },
    {
      "cell_type": "code",
      "execution_count": 24,
      "metadata": {
        "colab": {
          "base_uri": "https://localhost:8080/"
        },
        "id": "DOqFyXcvoy5R",
        "outputId": "e5e56bf4-eaa0-4302-b0dc-54de3449ea82"
      },
      "outputs": [
        {
          "data": {
            "text/plain": [
              "Unnamed: 0                                                                9\n",
              "nombre                                                           Ana Flores\n",
              "correo                                           ana.flores76@correo.edu.pe\n",
              "ubicacion                  Av. Universitaria, Villa María del Triunfo, Lima\n",
              "skill_estrella            Análisis de laboratorio y estudios de biodiver...\n",
              "motivacion_principal                                 Remuneración simbólica\n",
              "hobbies                                                                Yoga\n",
              "disponibilidad_semanal                                                   10\n",
              "modalidad_preferida                                              Presencial\n",
              "areas_interes             Aplicaciones prácticas en Biología, Tecnología...\n",
              "carrera                                                            Biología\n",
              "ciclo                                                                     7\n",
              "Name: 9, dtype: object"
            ]
          },
          "execution_count": 24,
          "metadata": {},
          "output_type": "execute_result"
        }
      ],
      "source": [
        "estudiantes.iloc[9]"
      ]
    },
    {
      "cell_type": "markdown",
      "metadata": {
        "id": "KFU4zqDvnXBF"
      },
      "source": [
        "# Ahora preprocesamos solo el estudiante y las mypes_filtradas"
      ]
    },
    {
      "cell_type": "code",
      "execution_count": 34,
      "metadata": {
        "colab": {
          "base_uri": "https://localhost:8080/"
        },
        "id": "aRUeO2jxnT6l",
        "outputId": "cc797d26-c4a3-4c0c-d89f-f83ce6aef53d"
      },
      "outputs": [
        {
          "name": "stderr",
          "output_type": "stream",
          "text": [
            "/tmp/ipykernel_118986/1870823140.py:3: SettingWithCopyWarning: \n",
            "A value is trying to be set on a copy of a slice from a DataFrame\n",
            "\n",
            "See the caveats in the documentation: https://pandas.pydata.org/pandas-docs/stable/user_guide/indexing.html#returning-a-view-versus-a-copy\n",
            "  estudiante[\"skill_estrella\"] = preprocesar(estudiante[\"skill_estrella\"])\n",
            "/tmp/ipykernel_118986/1870823140.py:4: SettingWithCopyWarning: \n",
            "A value is trying to be set on a copy of a slice from a DataFrame\n",
            "\n",
            "See the caveats in the documentation: https://pandas.pydata.org/pandas-docs/stable/user_guide/indexing.html#returning-a-view-versus-a-copy\n",
            "  estudiante[\"motivacion_principal\"] = preprocesar(estudiante[\"motivacion_principal\"])\n",
            "/tmp/ipykernel_118986/1870823140.py:5: SettingWithCopyWarning: \n",
            "A value is trying to be set on a copy of a slice from a DataFrame\n",
            "\n",
            "See the caveats in the documentation: https://pandas.pydata.org/pandas-docs/stable/user_guide/indexing.html#returning-a-view-versus-a-copy\n",
            "  estudiante[\"areas_interes\"] = preprocesar(estudiante[\"areas_interes\"])\n"
          ]
        }
      ],
      "source": [
        "# Para el estudiante\n",
        "estudiante = estudiantes.iloc[6]\n",
        "estudiante[\"skill_estrella\"] = preprocesar(estudiante[\"skill_estrella\"])\n",
        "estudiante[\"motivacion_principal\"] = preprocesar(estudiante[\"motivacion_principal\"])\n",
        "estudiante[\"areas_interes\"] = preprocesar(estudiante[\"areas_interes\"])"
      ]
    },
    {
      "cell_type": "code",
      "execution_count": 35,
      "metadata": {
        "id": "-SljoTqxoQ9E"
      },
      "outputs": [],
      "source": [
        "# Para la mype\n",
        "mypes_filtradas[\"area_reto\"] = mypes_filtradas[\"area_reto\"].apply(preprocesar)\n",
        "mypes_filtradas[\"descripcion_reto\"] = mypes_filtradas[\"descripcion_reto\"].apply(preprocesar)\n",
        "mypes_filtradas[\"habilidades_requeridas\"] = mypes_filtradas[\"habilidades_requeridas\"].apply(preprocesar)\n",
        "mypes_filtradas[\"cultura_empresa\"] = mypes_filtradas[\"cultura_empresa\"].apply(preprocesar)"
      ]
    },
    {
      "cell_type": "code",
      "execution_count": 36,
      "metadata": {
        "colab": {
          "base_uri": "https://localhost:8080/",
          "height": 258
        },
        "id": "HVGRujv_pk7U",
        "outputId": "a461fa40-5ff9-4a7a-da79-22c8766e9aed"
      },
      "outputs": [
        {
          "data": {
            "text/html": [
              "<div>\n",
              "<style scoped>\n",
              "    .dataframe tbody tr th:only-of-type {\n",
              "        vertical-align: middle;\n",
              "    }\n",
              "\n",
              "    .dataframe tbody tr th {\n",
              "        vertical-align: top;\n",
              "    }\n",
              "\n",
              "    .dataframe thead th {\n",
              "        text-align: right;\n",
              "    }\n",
              "</style>\n",
              "<table border=\"1\" class=\"dataframe\">\n",
              "  <thead>\n",
              "    <tr style=\"text-align: right;\">\n",
              "      <th></th>\n",
              "      <th>Unnamed: 0</th>\n",
              "      <th>nombre_empresa</th>\n",
              "      <th>RUC</th>\n",
              "      <th>area_reto</th>\n",
              "      <th>descripcion_reto</th>\n",
              "      <th>habilidades_requeridas</th>\n",
              "      <th>cultura_empresa</th>\n",
              "      <th>horas_requeridas</th>\n",
              "      <th>modalidad_proyecto</th>\n",
              "      <th>ubicacion</th>\n",
              "    </tr>\n",
              "  </thead>\n",
              "  <tbody>\n",
              "    <tr>\n",
              "      <th>0</th>\n",
              "      <td>3</td>\n",
              "      <td>Soluciones Marketing Corporación</td>\n",
              "      <td>70925802916</td>\n",
              "      <td>legal</td>\n",
              "      <td>necesitar elaborar política interno claro concisa</td>\n",
              "      <td>redacción legal derecho empresarial análisis c...</td>\n",
              "      <td>empresa joven tecnológico</td>\n",
              "      <td>20</td>\n",
              "      <td>Presencial</td>\n",
              "      <td>Jr. Amazonas, Huaral, Lima</td>\n",
              "    </tr>\n",
              "    <tr>\n",
              "      <th>1</th>\n",
              "      <td>6</td>\n",
              "      <td>Progreso Marketing SRL</td>\n",
              "      <td>34980195388</td>\n",
              "      <td>marketing</td>\n",
              "      <td>buscar desarrollar estrategia contenido captar...</td>\n",
              "      <td>seo googlar ads marketing digital</td>\n",
              "      <td>organización orientado impacto social</td>\n",
              "      <td>20</td>\n",
              "      <td>Presencial</td>\n",
              "      <td>Av. Principal, Jaén, Cajamarca</td>\n",
              "    </tr>\n",
              "    <tr>\n",
              "      <th>2</th>\n",
              "      <td>15</td>\n",
              "      <td>Progreso Exportaciones SAC</td>\n",
              "      <td>87188857461</td>\n",
              "      <td>legal</td>\n",
              "      <td>necesitar elaborar política interno claro concisa</td>\n",
              "      <td>excel normativo peruano derecho empresarial an...</td>\n",
              "      <td>startup dinámico colaborativo</td>\n",
              "      <td>25</td>\n",
              "      <td>Presencial</td>\n",
              "      <td>Jr. San Martín, Moquegua, Moquegua</td>\n",
              "    </tr>\n",
              "    <tr>\n",
              "      <th>3</th>\n",
              "      <td>17</td>\n",
              "      <td>Servicios Exportaciones Corporación</td>\n",
              "      <td>38319868934</td>\n",
              "      <td>recurso humano</td>\n",
              "      <td>mejorar proceso reclutamiento selección</td>\n",
              "      <td>psicología organizacional comunicación efectiv...</td>\n",
              "      <td>empresa familiar enfoque innovación social</td>\n",
              "      <td>25</td>\n",
              "      <td>Presencial</td>\n",
              "      <td>Av. Principal, Chorrillos, Lima</td>\n",
              "    </tr>\n",
              "    <tr>\n",
              "      <th>4</th>\n",
              "      <td>21</td>\n",
              "      <td>Comercial Diseño SPA</td>\n",
              "      <td>96105252980</td>\n",
              "      <td>diseño</td>\n",
              "      <td>rediseñar página web mejorar experiencia usuario</td>\n",
              "      <td>figma html css adobe illustrator</td>\n",
              "      <td>organización orientado impacto social</td>\n",
              "      <td>25</td>\n",
              "      <td>Presencial</td>\n",
              "      <td>Av. Libertad, Tarapoto, San Martín</td>\n",
              "    </tr>\n",
              "  </tbody>\n",
              "</table>\n",
              "</div>"
            ],
            "text/plain": [
              "   Unnamed: 0                       nombre_empresa          RUC  \\\n",
              "0           3     Soluciones Marketing Corporación  70925802916   \n",
              "1           6               Progreso Marketing SRL  34980195388   \n",
              "2          15           Progreso Exportaciones SAC  87188857461   \n",
              "3          17  Servicios Exportaciones Corporación  38319868934   \n",
              "4          21                 Comercial Diseño SPA  96105252980   \n",
              "\n",
              "        area_reto                                   descripcion_reto  \\\n",
              "0           legal  necesitar elaborar política interno claro concisa   \n",
              "1       marketing  buscar desarrollar estrategia contenido captar...   \n",
              "2           legal  necesitar elaborar política interno claro concisa   \n",
              "3  recurso humano            mejorar proceso reclutamiento selección   \n",
              "4          diseño   rediseñar página web mejorar experiencia usuario   \n",
              "\n",
              "                              habilidades_requeridas  \\\n",
              "0  redacción legal derecho empresarial análisis c...   \n",
              "1                  seo googlar ads marketing digital   \n",
              "2  excel normativo peruano derecho empresarial an...   \n",
              "3  psicología organizacional comunicación efectiv...   \n",
              "4                   figma html css adobe illustrator   \n",
              "\n",
              "                              cultura_empresa  horas_requeridas  \\\n",
              "0                   empresa joven tecnológico                20   \n",
              "1       organización orientado impacto social                20   \n",
              "2               startup dinámico colaborativo                25   \n",
              "3  empresa familiar enfoque innovación social                25   \n",
              "4       organización orientado impacto social                25   \n",
              "\n",
              "  modalidad_proyecto                           ubicacion  \n",
              "0         Presencial          Jr. Amazonas, Huaral, Lima  \n",
              "1         Presencial      Av. Principal, Jaén, Cajamarca  \n",
              "2         Presencial  Jr. San Martín, Moquegua, Moquegua  \n",
              "3         Presencial     Av. Principal, Chorrillos, Lima  \n",
              "4         Presencial  Av. Libertad, Tarapoto, San Martín  "
            ]
          },
          "execution_count": 36,
          "metadata": {},
          "output_type": "execute_result"
        }
      ],
      "source": [
        "mypes_filtradas.head()"
      ]
    },
    {
      "cell_type": "markdown",
      "metadata": {
        "id": "N96tKcSWha4-"
      },
      "source": [
        "# 2do Filtro - Creamos los vectores TF-IDF para el subset de mypes"
      ]
    },
    {
      "cell_type": "code",
      "execution_count": null,
      "metadata": {
        "id": "skUpwLLFhjy-"
      },
      "outputs": [],
      "source": [
        "def concatenar_texto_estudiante(estudiantes):\n",
        "  return (\n",
        "      str(estudiantes[\"skill_estrella\"]) + \" \" +\n",
        "      str(estudiantes[\"motivacion_principal\"]) + \" \" +\n",
        "      str(estudiantes[\"areas_interes\"])\n",
        "  )\n",
        "\n",
        "def concatenar_texto_mypes(mypes):\n",
        "  return (\n",
        "      str(mypes[\"area_reto\"]) + \" \" +\n",
        "      str(mypes[\"descripcion_reto\"]) + \" \" +\n",
        "      str(mypes[\"habilidades_requeridas\"]) + \" \" +\n",
        "      str(mypes[\"cultura_empresa\"])\n",
        "  )\n",
        "\n",
        "\n",
        "def calcular_similitud_texto(estudiante, mypes_filtradas):\n",
        "    # primero concatenamos todo\n",
        "    texto_estudiante = concatenar_texto_estudiante(estudiante)\n",
        "    textos_mypes = mypes_filtradas.apply(concatenar_texto_mypes, axis=1)\n",
        "\n",
        "    # Ahora juntamos el texto estudiante con el texto de las mipes con lista\n",
        "    corpus = [texto_estudiante] + textos_mypes.tolist()\n",
        "\n",
        "    # Hacemos la vectorización TF-IDF\n",
        "    vectorizer = TfidfVectorizer()\n",
        "    tfidf_matrix = vectorizer.fit_transform(corpus)\n",
        "\n",
        "    # Ahora hacemos el cosine similarity\n",
        "    similitudes = cosine_similarity(tfidf_matrix[0:1], tfidf_matrix[1:])[0]\n",
        "\n",
        "    # Ahora usamos una columna de similitud\n",
        "    mypes_filtradas = mypes_filtradas.copy()\n",
        "    mypes_filtradas[\"similitud\"] = similitudes\n",
        "\n",
        "    # Ordenamos las mypes_filtradas de mayor a menor\n",
        "    mypes_filtradas = mypes_filtradas.sort_values(by=\"similitud\", ascending=False).reset_index(drop=True)\n",
        "\n",
        "    return mypes_filtradas"
      ]
    },
    {
      "cell_type": "code",
      "execution_count": null,
      "metadata": {
        "colab": {
          "base_uri": "https://localhost:8080/",
          "height": 442
        },
        "id": "GyRlMDY8lrXm",
        "outputId": "fae42780-78e6-4f90-d207-8c31aa253ea6"
      },
      "outputs": [
        {
          "name": "stdout",
          "output_type": "stream",
          "text": [
            "Presencial 25\n"
          ]
        },
        {
          "data": {
            "text/html": [
              "<div>\n",
              "<style scoped>\n",
              "    .dataframe tbody tr th:only-of-type {\n",
              "        vertical-align: middle;\n",
              "    }\n",
              "\n",
              "    .dataframe tbody tr th {\n",
              "        vertical-align: top;\n",
              "    }\n",
              "\n",
              "    .dataframe thead th {\n",
              "        text-align: right;\n",
              "    }\n",
              "</style>\n",
              "<table border=\"1\" class=\"dataframe\">\n",
              "  <thead>\n",
              "    <tr style=\"text-align: right;\">\n",
              "      <th></th>\n",
              "      <th>RUC</th>\n",
              "      <th>similitud</th>\n",
              "    </tr>\n",
              "  </thead>\n",
              "  <tbody>\n",
              "    <tr>\n",
              "      <th>0</th>\n",
              "      <td>53206862288</td>\n",
              "      <td>0.391569</td>\n",
              "    </tr>\n",
              "    <tr>\n",
              "      <th>1</th>\n",
              "      <td>14894252875</td>\n",
              "      <td>0.388043</td>\n",
              "    </tr>\n",
              "    <tr>\n",
              "      <th>2</th>\n",
              "      <td>33820574064</td>\n",
              "      <td>0.381881</td>\n",
              "    </tr>\n",
              "    <tr>\n",
              "      <th>3</th>\n",
              "      <td>81227971577</td>\n",
              "      <td>0.381151</td>\n",
              "    </tr>\n",
              "    <tr>\n",
              "      <th>4</th>\n",
              "      <td>45831847091</td>\n",
              "      <td>0.370377</td>\n",
              "    </tr>\n",
              "    <tr>\n",
              "      <th>...</th>\n",
              "      <td>...</td>\n",
              "      <td>...</td>\n",
              "    </tr>\n",
              "    <tr>\n",
              "      <th>660</th>\n",
              "      <td>37965841620</td>\n",
              "      <td>0.000000</td>\n",
              "    </tr>\n",
              "    <tr>\n",
              "      <th>661</th>\n",
              "      <td>14366201374</td>\n",
              "      <td>0.000000</td>\n",
              "    </tr>\n",
              "    <tr>\n",
              "      <th>662</th>\n",
              "      <td>30804139665</td>\n",
              "      <td>0.000000</td>\n",
              "    </tr>\n",
              "    <tr>\n",
              "      <th>663</th>\n",
              "      <td>92231914025</td>\n",
              "      <td>0.000000</td>\n",
              "    </tr>\n",
              "    <tr>\n",
              "      <th>664</th>\n",
              "      <td>97260502181</td>\n",
              "      <td>0.000000</td>\n",
              "    </tr>\n",
              "  </tbody>\n",
              "</table>\n",
              "<p>665 rows × 2 columns</p>\n",
              "</div>"
            ],
            "text/plain": [
              "             RUC  similitud\n",
              "0    53206862288   0.391569\n",
              "1    14894252875   0.388043\n",
              "2    33820574064   0.381881\n",
              "3    81227971577   0.381151\n",
              "4    45831847091   0.370377\n",
              "..           ...        ...\n",
              "660  37965841620   0.000000\n",
              "661  14366201374   0.000000\n",
              "662  30804139665   0.000000\n",
              "663  92231914025   0.000000\n",
              "664  97260502181   0.000000\n",
              "\n",
              "[665 rows x 2 columns]"
            ]
          },
          "execution_count": 38,
          "metadata": {},
          "output_type": "execute_result"
        }
      ],
      "source": [
        "# 2. Filtrar MYPEs compatibles\n",
        "mypes_filtradas = filtrar_por_columnas(6, estudiantes, mypes)\n",
        "\n",
        "# 3. Calcular similitudes\n",
        "mypes_con_similitud = calcular_similitud_texto(estudiante, mypes_filtradas)\n",
        "\n",
        "# 4. Ver resultado\n",
        "mypes_con_similitud[[\"RUC\", \"similitud\"]]"
      ]
    },
    {
      "cell_type": "code",
      "execution_count": 17,
      "metadata": {
        "colab": {
          "base_uri": "https://localhost:8080/",
          "height": 429
        },
        "id": "TIZsOR1XmlZA",
        "outputId": "113406b1-fa24-4056-cff3-6fc78f959768"
      },
      "outputs": [
        {
          "data": {
            "text/plain": [
              "Unnamed: 0                                                                6\n",
              "nombre                                                         Carlos López\n",
              "correo                                         carlos.lópez21@correo.edu.pe\n",
              "ubicacion                                           Jr. Bolognesi, Ica, Ica\n",
              "skill_estrella            Diseño de material publicitario en Adobe Illus...\n",
              "motivacion_principal                                               Aprender\n",
              "hobbies                                              Voluntariado ambiental\n",
              "disponibilidad_semanal                                                   25\n",
              "modalidad_preferida                                              Presencial\n",
              "areas_interes             Fundamentos de Diseño Gráfico, Metodologías bá...\n",
              "carrera                                                      Diseño Gráfico\n",
              "ciclo                                                                     3\n",
              "Name: 6, dtype: object"
            ]
          },
          "execution_count": 17,
          "metadata": {},
          "output_type": "execute_result"
        }
      ],
      "source": [
        "estudiantes.iloc[6]"
      ]
    },
    {
      "cell_type": "code",
      "execution_count": 18,
      "metadata": {
        "colab": {
          "base_uri": "https://localhost:8080/",
          "height": 81
        },
        "id": "fBo8CWkJmwXh",
        "outputId": "1f4ab900-271e-4498-f143-d2f7eb1c9d13"
      },
      "outputs": [
        {
          "data": {
            "text/html": [
              "<div>\n",
              "<style scoped>\n",
              "    .dataframe tbody tr th:only-of-type {\n",
              "        vertical-align: middle;\n",
              "    }\n",
              "\n",
              "    .dataframe tbody tr th {\n",
              "        vertical-align: top;\n",
              "    }\n",
              "\n",
              "    .dataframe thead th {\n",
              "        text-align: right;\n",
              "    }\n",
              "</style>\n",
              "<table border=\"1\" class=\"dataframe\">\n",
              "  <thead>\n",
              "    <tr style=\"text-align: right;\">\n",
              "      <th></th>\n",
              "      <th>Unnamed: 0</th>\n",
              "      <th>nombre_empresa</th>\n",
              "      <th>RUC</th>\n",
              "      <th>area_reto</th>\n",
              "      <th>descripcion_reto</th>\n",
              "      <th>habilidades_requeridas</th>\n",
              "      <th>cultura_empresa</th>\n",
              "      <th>horas_requeridas</th>\n",
              "      <th>modalidad_proyecto</th>\n",
              "      <th>ubicacion</th>\n",
              "    </tr>\n",
              "  </thead>\n",
              "  <tbody>\n",
              "    <tr>\n",
              "      <th>239</th>\n",
              "      <td>1725</td>\n",
              "      <td>Estrategias Legal SRL</td>\n",
              "      <td>53206862288</td>\n",
              "      <td>Diseño</td>\n",
              "      <td>Requerimos material gráfico para redes y prese...</td>\n",
              "      <td>Adobe Illustrator, HTML/CSS</td>\n",
              "      <td>Startup dinámica y colaborativa</td>\n",
              "      <td>20</td>\n",
              "      <td>Presencial</td>\n",
              "      <td>Av. Progreso, Huánuco, Huánuco</td>\n",
              "    </tr>\n",
              "  </tbody>\n",
              "</table>\n",
              "</div>"
            ],
            "text/plain": [
              "     Unnamed: 0         nombre_empresa          RUC area_reto  \\\n",
              "239        1725  Estrategias Legal SRL  53206862288    Diseño   \n",
              "\n",
              "                                      descripcion_reto  \\\n",
              "239  Requerimos material gráfico para redes y prese...   \n",
              "\n",
              "          habilidades_requeridas                  cultura_empresa  \\\n",
              "239  Adobe Illustrator, HTML/CSS  Startup dinámica y colaborativa   \n",
              "\n",
              "     horas_requeridas modalidad_proyecto                       ubicacion  \n",
              "239                20         Presencial  Av. Progreso, Huánuco, Huánuco  "
            ]
          },
          "execution_count": 18,
          "metadata": {},
          "output_type": "execute_result"
        }
      ],
      "source": [
        "mypes_filtradas[mypes_filtradas['RUC']==53206862288]"
      ]
    },
    {
      "cell_type": "markdown",
      "metadata": {
        "id": "4Pykjrx-joWZ"
      },
      "source": []
    }
  ],
  "metadata": {
    "colab": {
      "provenance": []
    },
    "kernelspec": {
      "display_name": "venv",
      "language": "python",
      "name": "python3"
    },
    "language_info": {
      "codemirror_mode": {
        "name": "ipython",
        "version": 3
      },
      "file_extension": ".py",
      "mimetype": "text/x-python",
      "name": "python",
      "nbconvert_exporter": "python",
      "pygments_lexer": "ipython3",
      "version": "3.12.3"
    }
  },
  "nbformat": 4,
  "nbformat_minor": 0
}
